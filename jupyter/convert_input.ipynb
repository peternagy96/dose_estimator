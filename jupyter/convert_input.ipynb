{
 "cells": [
  {
   "cell_type": "code",
   "execution_count": 1,
   "metadata": {},
   "outputs": [],
   "source": [
    "import numpy as np\n",
    "import SimpleITK as sitk\n",
    "import matplotlib.pyplot as plt\n",
    "from PIL import Image\n",
    "from scipy import signal\n",
    "import cv2\n",
    "\n",
    "import os\n",
    "import random"
   ]
  },
  {
   "cell_type": "code",
   "execution_count": 22,
   "metadata": {},
   "outputs": [],
   "source": [
    "img = sitk.ReadImage('/home/peter/Documents/data_registered/05z1.nii')"
   ]
  },
  {
   "cell_type": "code",
   "execution_count": 16,
   "metadata": {},
   "outputs": [],
   "source": [
    "path = '/home/peter/Documents/dose_estimator-git/data/data_corrected/'\n",
    "path_out = '/home/peter/Documents/dose_estimator-git/data/data_3d'"
   ]
  },
  {
   "cell_type": "code",
   "execution_count": 18,
   "metadata": {},
   "outputs": [
    {
     "name": "stdout",
     "output_type": "stream",
     "text": [
      "/home/peter/Documents/dose_estimator-git/data/data_corrected/05z4_pet.nii.gz\n"
     ]
    }
   ],
   "source": [
    "# go through file system\n",
    "pet = []\n",
    "ct = []\n",
    "dose= []\n",
    "\n",
    "blacklist = ['06z1', '07z2', '12z4', '20z1', '23z1', '27z1', '62z1', '62z2']\n",
    "\n",
    "for r, d, f in os.walk(path):\n",
    "    for file in f:\n",
    "        if '.nii' in file and file[:4] not in blacklist:\n",
    "            if 'pet' in file:\n",
    "                pet.append(os.path.join(r, file))\n",
    "            elif 'ct' in file:\n",
    "                ct.append(os.path.join(r, file))\n",
    "            else:\n",
    "                dose.append(os.path.join(r, file))\n",
    "print(pet[0])"
   ]
  },
  {
   "cell_type": "code",
   "execution_count": 5,
   "metadata": {},
   "outputs": [
    {
     "data": {
      "text/plain": [
       "40"
      ]
     },
     "execution_count": 5,
     "metadata": {},
     "output_type": "execute_result"
    }
   ],
   "source": [
    "len(pet)"
   ]
  },
  {
   "cell_type": "code",
   "execution_count": null,
   "metadata": {},
   "outputs": [],
   "source": [
    "# SAVE IN NEW FOLDER STRUCTURE ------------------------------------------------------------------------------------------"
   ]
  },
  {
   "cell_type": "code",
   "execution_count": 6,
   "metadata": {},
   "outputs": [],
   "source": [
    "ref_size = (81, 128, 128)"
   ]
  },
  {
   "cell_type": "code",
   "execution_count": 21,
   "metadata": {
    "scrolled": false
   },
   "outputs": [
    {
     "name": "stdout",
     "output_type": "stream",
     "text": [
      "07z3\n",
      "05z9\n",
      "21z1\n"
     ]
    }
   ],
   "source": [
    "# save pet images (third dimension must match)\n",
    "wrong_imgs = []\n",
    "\n",
    "for p in pet:\n",
    "    # load image\n",
    "    orig_nii = sitk.ReadImage(p)\n",
    "    orig = sitk.GetArrayFromImage(orig_nii)\n",
    "    #print(orig.shape)\n",
    "    out = np.zeros(ref_size)\n",
    "    \n",
    "    # check size\n",
    "    if orig.shape[0] <= 82:\n",
    "        if orig.shape != ref_size: \n",
    "            for s in range(81): #orig.shape[0]\n",
    "                out[s,:,:] = cv2.resize(orig[s,:,:], ref_size[1:])\n",
    "        else:\n",
    "            for s in range(81):\n",
    "                out[s,:,:] = orig[s,:,:]\n",
    "                \n",
    "        # convert pack to NIFTI\n",
    "        itkimage = sitk.GetImageFromArray(out, isVector=False)\n",
    "\n",
    "        # copy metadata\n",
    "        for k in orig_nii.GetMetaDataKeys():\n",
    "            itkimage.SetMetaData(k, orig_nii.GetMetaData(k))\n",
    "        itkimage.SetMetaData('dim[1]', str(ref_size[1]))\n",
    "        itkimage.SetMetaData('dim[2]', str(ref_size[2]))\n",
    "        itkimage.SetMetaData('dim[3]', str(ref_size[0]))\n",
    "\n",
    "        # new filename\n",
    "        filename = p.split('/')[-1].split('_')[0] + '_pet.nii.gz'\n",
    "\n",
    "        # save to new folder\n",
    "        sitk.WriteImage(itkimage, os.path.join(path_out, filename), True)\n",
    "    else:\n",
    "        print(p.split('/')[-1].split('_')[0])\n",
    "        wrong_imgs.append(p.split('/')[-1].split('_')[0])"
   ]
  },
  {
   "cell_type": "code",
   "execution_count": 7,
   "metadata": {},
   "outputs": [],
   "source": [
    "wrong_imgs = ['07z3', '05z9', '21z1']"
   ]
  },
  {
   "cell_type": "code",
   "execution_count": 23,
   "metadata": {
    "scrolled": true
   },
   "outputs": [
    {
     "name": "stdout",
     "output_type": "stream",
     "text": [
      "21z1\n",
      "07z3\n",
      "05z9\n"
     ]
    }
   ],
   "source": [
    "# save ct images\n",
    "\n",
    "for p in ct:\n",
    "    # load image\n",
    "    orig_nii = sitk.ReadImage(p)\n",
    "    orig = sitk.GetArrayFromImage(orig_nii)\n",
    "    #print(orig.shape)\n",
    "    out = np.zeros(ref_size)\n",
    "    \n",
    "    # check size\n",
    "    if orig.shape[0] <= 82:\n",
    "        if orig.shape != ref_size: \n",
    "            for s in range(81): #orig.shape[0]\n",
    "                out[s,:,:] = cv2.resize(orig[s,:,:], ref_size[1:])\n",
    "        else:\n",
    "            for s in range(81):\n",
    "                out[s,:,:] = orig[s,:,:]\n",
    "                \n",
    "        # convert pack to NIFTI\n",
    "        itkimage = sitk.GetImageFromArray(out, isVector=False)\n",
    "\n",
    "        # copy metadata\n",
    "        for k in orig_nii.GetMetaDataKeys():\n",
    "            itkimage.SetMetaData(k, orig_nii.GetMetaData(k))\n",
    "        itkimage.SetMetaData('dim[1]', str(ref_size[1]))\n",
    "        itkimage.SetMetaData('dim[2]', str(ref_size[2]))\n",
    "        itkimage.SetMetaData('dim[3]', str(ref_size[0]))\n",
    "\n",
    "        # new filename\n",
    "        filename = p.split('/')[-1].split('_')[0] + '_ct.nii.gz'\n",
    "\n",
    "        # save to new folder\n",
    "        sitk.WriteImage(itkimage, os.path.join(path_out, filename), True)\n",
    "    else:\n",
    "        print(p.split('/')[-1].split('_')[0])"
   ]
  },
  {
   "cell_type": "code",
   "execution_count": 24,
   "metadata": {},
   "outputs": [
    {
     "name": "stdout",
     "output_type": "stream",
     "text": [
      "07z3\n",
      "05z9\n",
      "21z1\n"
     ]
    }
   ],
   "source": [
    "# save dose images\n",
    "\n",
    "for p in dose:\n",
    "    # load image\n",
    "    orig_nii = sitk.ReadImage(p)\n",
    "    orig = sitk.GetArrayFromImage(orig_nii)\n",
    "    #print(orig.shape)\n",
    "    out = np.zeros(ref_size)\n",
    "    \n",
    "    # check size\n",
    "    # check size\n",
    "    if orig.shape[0] <= 82:\n",
    "        if orig.shape != ref_size: \n",
    "            for s in range(81): #orig.shape[0]\n",
    "                out[s,:,:] = cv2.resize(orig[s,:,:], ref_size[1:])\n",
    "        else:\n",
    "            for s in range(81):\n",
    "                out[s,:,:] = orig[s,:,:]\n",
    "                \n",
    "        # convert pack to NIFTI\n",
    "        itkimage = sitk.GetImageFromArray(out, isVector=False)\n",
    "\n",
    "        # copy metadata\n",
    "        for k in orig_nii.GetMetaDataKeys():\n",
    "            itkimage.SetMetaData(k, orig_nii.GetMetaData(k))\n",
    "        itkimage.SetMetaData('dim[1]', str(ref_size[1]))\n",
    "        itkimage.SetMetaData('dim[2]', str(ref_size[2]))\n",
    "        itkimage.SetMetaData('dim[3]', str(ref_size[0]))\n",
    "\n",
    "        # new filename\n",
    "        filename = p.split('/')[-1].split('.')[0] + '.nii.gz'\n",
    "\n",
    "        # save to new folder\n",
    "        sitk.WriteImage(itkimage, os.path.join(path_out, filename), True)\n",
    "    else:\n",
    "        print(p.split('/')[-1].split('.')[0])"
   ]
  },
  {
   "cell_type": "code",
   "execution_count": null,
   "metadata": {},
   "outputs": [],
   "source": [
    "# SAVE AS NUMPY FILES ---------------------------------------------------------------------------------------------------"
   ]
  },
  {
   "cell_type": "code",
   "execution_count": 8,
   "metadata": {},
   "outputs": [],
   "source": [
    "pet_filt = []\n",
    "for x in pet:\n",
    "    if x.split('/')[-1].split('_')[0] not in wrong_imgs:\n",
    "        pet_filt.append(x)"
   ]
  },
  {
   "cell_type": "code",
   "execution_count": 9,
   "metadata": {},
   "outputs": [
    {
     "data": {
      "text/plain": [
       "37"
      ]
     },
     "execution_count": 9,
     "metadata": {},
     "output_type": "execute_result"
    }
   ],
   "source": [
    "len(pet_filt)"
   ]
  },
  {
   "cell_type": "code",
   "execution_count": 10,
   "metadata": {},
   "outputs": [
    {
     "name": "stdout",
     "output_type": "stream",
     "text": [
      "['15z1', '09z1', '05z4', '05z1', '20z2']\n"
     ]
    }
   ],
   "source": [
    "# select test set\n",
    "testset_size = 5\n",
    "\n",
    "\n",
    "\n",
    "dataset = [x.split('/')[-1].split('_')[0] for x in pet_filt]\n",
    "testset = ['15z1', '09z1', '05z4', '05z1', '20z2']#random.choices(dataset,k=testset_size)\n",
    "trainset = [x for x in dataset if x not in testset]\n",
    "print(testset)"
   ]
  },
  {
   "cell_type": "code",
   "execution_count": 14,
   "metadata": {},
   "outputs": [
    {
     "data": {
      "text/plain": [
       "32"
      ]
     },
     "execution_count": 14,
     "metadata": {},
     "output_type": "execute_result"
    }
   ],
   "source": [
    "len(trainset)"
   ]
  },
  {
   "cell_type": "code",
   "execution_count": 20,
   "metadata": {},
   "outputs": [
    {
     "name": "stdout",
     "output_type": "stream",
     "text": [
      "25z1\n",
      "81\n",
      "13z2\n",
      "81\n",
      "29z1\n",
      "81\n",
      "05z3\n",
      "81\n",
      "28z1\n",
      "81\n",
      "05z2\n",
      "81\n",
      "10z1\n",
      "81\n",
      "24z2\n",
      "81\n",
      "14z1\n",
      "81\n",
      "14z2\n",
      "81\n",
      "17z1\n",
      "81\n",
      "15z2\n",
      "81\n",
      "07z1\n",
      "81\n",
      "18z2\n",
      "81\n",
      "24z1\n",
      "81\n",
      "07z4\n",
      "81\n",
      "10z2\n",
      "81\n",
      "05z5\n",
      "81\n",
      "14z3\n",
      "81\n",
      "12z2\n",
      "81\n",
      "11z4\n",
      "81\n",
      "13z1\n",
      "81\n",
      "12z1\n",
      "81\n",
      "11z2\n",
      "81\n",
      "18z3\n",
      "81\n",
      "18z1\n",
      "81\n",
      "11z1\n",
      "81\n",
      "11z3\n",
      "81\n",
      "12z3\n",
      "81\n",
      "08z1\n",
      "81\n",
      "16z1\n",
      "81\n",
      "14z4\n",
      "81\n"
     ]
    }
   ],
   "source": [
    "pet_final = np.zeros((len(trainset)*81, 128, 128))\n",
    "ct_final = np.zeros((len(trainset)*81, 128, 128))\n",
    "dose_final = np.zeros((len(trainset)*81, 128, 128))\n",
    "\n",
    "for idx, i in enumerate(trainset):\n",
    "    print(i)\n",
    "    pet_img = sitk.GetArrayFromImage(sitk.ReadImage(os.path.join(path, i + '_pet.nii.gz')))\n",
    "    ct_img = sitk.GetArrayFromImage(sitk.ReadImage(os.path.join(path, i + '_ct.nii.gz')))\n",
    "    dose_img = sitk.GetArrayFromImage(sitk.ReadImage(os.path.join(path, i + '.nii.gz')))\n",
    "    print(pet_img.shape[0])\n",
    "    for x in range(pet_img.shape[0]):\n",
    "        pet_final[idx*81+x,:,:] = pet_img[x,:,:]\n",
    "        ct_final[idx*81+x,:,:] = ct_img[x,:,:]\n",
    "        dose_final[idx*81+x,:,:] = dose_img[x,:,:]\n",
    "    del pet_img, ct_img, dose_img\n",
    "    \n",
    "np.save(f\"{path_out}/pet_train.npy\", pet_final)\n",
    "np.save(f\"{path_out}/ct_train.npy\", ct_final)\n",
    "np.save(f\"{path_out}/dose_train.npy\", dose_final)"
   ]
  },
  {
   "cell_type": "code",
   "execution_count": 21,
   "metadata": {},
   "outputs": [],
   "source": [
    "del pet_final, ct_final, dose_final"
   ]
  },
  {
   "cell_type": "code",
   "execution_count": 23,
   "metadata": {},
   "outputs": [
    {
     "name": "stdout",
     "output_type": "stream",
     "text": [
      "15z1\n",
      "09z1\n",
      "05z4\n",
      "05z1\n",
      "20z2\n"
     ]
    }
   ],
   "source": [
    "pet_final2 = np.zeros((len(testset)*81, 128, 128))\n",
    "ct_final2 = np.zeros((len(testset)*81, 128, 128))\n",
    "dose_final2 = np.zeros((len(testset)*81, 128, 128))\n",
    "\n",
    "for idx, i in enumerate(testset):\n",
    "    print(i)\n",
    "    pet_img = sitk.GetArrayFromImage(sitk.ReadImage(os.path.join(path, i + '_pet.nii.gz')))\n",
    "    ct_img = sitk.GetArrayFromImage(sitk.ReadImage(os.path.join(path, i + '_ct.nii.gz')))\n",
    "    dose_img = sitk.GetArrayFromImage(sitk.ReadImage(os.path.join(path, i + '.nii.gz')))\n",
    "    for x in range(pet_img.shape[0]):\n",
    "        pet_final2[idx*81+x,:,:] = pet_img[x,:,:]\n",
    "        ct_final2[idx*81+x,:,:] = ct_img[x,:,:]\n",
    "        dose_final2[idx*81+x,:,:] = dose_img[x,:,:]\n",
    "    del pet_img, ct_img, dose_img\n",
    "    \n",
    "np.save(f\"{path_out}/pet_test.npy\", pet_final2)\n",
    "np.save(f\"{path_out}/ct_test.npy\", ct_final2)\n",
    "np.save(f\"{path_out}/dose_test.npy\", dose_final2)"
   ]
  },
  {
   "cell_type": "code",
   "execution_count": 24,
   "metadata": {},
   "outputs": [],
   "source": [
    "# save image name lists to text files\n",
    "with open(f\"{path_out}/train.txt\", 'w') as f:\n",
    "    for item in trainset:\n",
    "        f.write(\"%s\\n\" % item)\n",
    "\n",
    "with open(f\"{path_out}/test.txt\", 'w') as f:\n",
    "    for item in testset:\n",
    "        f.write(\"%s\\n\" % item)"
   ]
  },
  {
   "cell_type": "code",
   "execution_count": 26,
   "metadata": {},
   "outputs": [
    {
     "data": {
      "text/plain": [
       "['15z1', '09z1', '05z4', '05z1', '20z2']"
      ]
     },
     "execution_count": 26,
     "metadata": {},
     "output_type": "execute_result"
    }
   ],
   "source": [
    "text_file = open(f\"{path_out}/test.txt\", \"r\", encoding='utf8')\n",
    "list1 = text_file.read().splitlines()\n",
    "list1"
   ]
  },
  {
   "cell_type": "code",
   "execution_count": null,
   "metadata": {},
   "outputs": [],
   "source": []
  }
 ],
 "metadata": {
  "kernelspec": {
   "display_name": "Python 3",
   "language": "python",
   "name": "python3"
  },
  "language_info": {
   "codemirror_mode": {
    "name": "ipython",
    "version": 3
   },
   "file_extension": ".py",
   "mimetype": "text/x-python",
   "name": "python",
   "nbconvert_exporter": "python",
   "pygments_lexer": "ipython3",
   "version": "3.6.7"
  }
 },
 "nbformat": 4,
 "nbformat_minor": 2
}
