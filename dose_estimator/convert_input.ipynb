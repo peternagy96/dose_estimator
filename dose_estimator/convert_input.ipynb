{
 "cells": [
  {
   "cell_type": "code",
   "execution_count": 1,
   "metadata": {},
   "outputs": [],
   "source": [
    "import numpy as np\n",
    "import SimpleITK as sitk\n",
    "import matplotlib.pyplot as plt\n",
    "from PIL import Image\n",
    "from scipy import signal\n",
    "import cv2\n",
    "\n",
    "import os\n",
    "import random"
   ]
  },
  {
   "cell_type": "code",
   "execution_count": 2,
   "metadata": {},
   "outputs": [],
   "source": [
    "path = '/home/peter/Documents/data/input/'\n",
    "path_out = '/home/peter/Documents/data/input_converted/'"
   ]
  },
  {
   "cell_type": "code",
   "execution_count": 3,
   "metadata": {},
   "outputs": [
    {
     "name": "stdout",
     "output_type": "stream",
     "text": [
      "/home/peter/Documents/data/input/20z1/8_pet_tk_it_nac.nii.gz\n"
     ]
    }
   ],
   "source": [
    "# go through file system\n",
    "pet = []\n",
    "ct = []\n",
    "\n",
    "for r, d, f in os.walk(path):\n",
    "    for file in f:\n",
    "        if '.nii.gz' in file:\n",
    "            if 'pet' in file:\n",
    "                pet.append(os.path.join(r, file))\n",
    "            else:\n",
    "                ct.append(os.path.join(r, file))\n",
    "print(pet[0])"
   ]
  },
  {
   "cell_type": "code",
   "execution_count": null,
   "metadata": {},
   "outputs": [],
   "source": [
    "# SAVE IN NEW FOLDER STRUCTURE ------------------------------------------------------------------------------------------"
   ]
  },
  {
   "cell_type": "code",
   "execution_count": 71,
   "metadata": {},
   "outputs": [],
   "source": [
    "ref_size = (171, 200, 200)"
   ]
  },
  {
   "cell_type": "code",
   "execution_count": null,
   "metadata": {
    "scrolled": true
   },
   "outputs": [],
   "source": [
    "# save pet images (third dimension must match)\n",
    "\n",
    "for p in pet:\n",
    "    # load image\n",
    "    orig_nii = sitk.ReadImage(p)\n",
    "    orig = sitk.GetArrayFromImage(orig_nii)\n",
    "    print(orig.shape)\n",
    "    out = np.zeros(ref_size)\n",
    "    \n",
    "    # check size\n",
    "    if orig.size != ref_size: \n",
    "        for s in range(171): #orig.shape[0]\n",
    "            out[s,:,:] = cv2.resize(orig[s,:,:], ref_size[1:])\n",
    "            \n",
    "    # convert pack to NIFTI\n",
    "    itkimage = sitk.GetImageFromArray(out, isVector=False)\n",
    "    \n",
    "    # copy metadata\n",
    "    for k in orig_nii.GetMetaDataKeys():\n",
    "        itkimage.SetMetaData(k, orig_nii.GetMetaData(k))\n",
    "    itkimage.SetMetaData('dim[1]', str(ref_size[1]))\n",
    "    itkimage.SetMetaData('dim[2]', str(ref_size[2]))\n",
    "    itkimage.SetMetaData('dim[3]', str(ref_size[0]))\n",
    "    \n",
    "    # new filename\n",
    "    filename = p.split('/')[-2] + '_pet.nii.gz'\n",
    "    \n",
    "    # save to new folder\n",
    "    sitk.WriteImage(itkimage, os.path.join(path_out, filename), True)"
   ]
  },
  {
   "cell_type": "code",
   "execution_count": null,
   "metadata": {},
   "outputs": [],
   "source": [
    "# save ct images\n",
    "\n",
    "for p in ct:\n",
    "    # load image\n",
    "    orig_nii = sitk.ReadImage(p)\n",
    "    orig = sitk.GetArrayFromImage(orig_nii)\n",
    "    print(orig.shape)\n",
    "    out = np.zeros(ref_size)\n",
    "    \n",
    "    # check size\n",
    "    if orig.size != ref_size: \n",
    "        for s in range(171): #orig.shape[0]\n",
    "            out[s,:,:] = cv2.resize(orig[s,:,:], ref_size[1:])\n",
    "            \n",
    "    # convert pack to NIFTI\n",
    "    itkimage = sitk.GetImageFromArray(out, isVector=False)\n",
    "    \n",
    "    # copy metadata\n",
    "    for k in orig_nii.GetMetaDataKeys():\n",
    "        itkimage.SetMetaData(k, orig_nii.GetMetaData(k))\n",
    "    itkimage.SetMetaData('dim[1]', str(ref_size[1]))\n",
    "    itkimage.SetMetaData('dim[2]', str(ref_size[2]))\n",
    "    itkimage.SetMetaData('dim[3]', str(ref_size[0]))\n",
    "    \n",
    "    # new filename\n",
    "    filename = p.split('/')[-2] + '_ct.nii.gz'\n",
    "    \n",
    "    # save to new folder\n",
    "    sitk.WriteImage(itkimage, os.path.join(path_out, filename), True)"
   ]
  },
  {
   "cell_type": "code",
   "execution_count": null,
   "metadata": {},
   "outputs": [],
   "source": [
    "# SAVE AS NUMPY FILES ---------------------------------------------------------------------------------------------------"
   ]
  },
  {
   "cell_type": "code",
   "execution_count": 4,
   "metadata": {},
   "outputs": [
    {
     "name": "stdout",
     "output_type": "stream",
     "text": [
      "['08z1', '25z1', '13z1', '27z1', '12z1', '11z3', '13z1', '24z1']\n"
     ]
    }
   ],
   "source": [
    "# select test set\n",
    "testset_size = 8\n",
    "\n",
    "dataset = [x.split('/')[-2] for x in pet]\n",
    "testset = random.choices(dataset,k=testset_size)\n",
    "trainset = [x for x in dataset if x not in testset]\n",
    "print(testset)"
   ]
  },
  {
   "cell_type": "code",
   "execution_count": null,
   "metadata": {},
   "outputs": [
    {
     "name": "stdout",
     "output_type": "stream",
     "text": [
      "20z1\n",
      "12z2\n",
      "11z2\n",
      "20z2\n",
      "07z2\n",
      "28z1\n",
      "07z3\n",
      "18z2\n",
      "14z1\n",
      "05z1\n",
      "15z1\n",
      "23z1\n",
      "05z3\n",
      "12z4\n",
      "29z1\n",
      "05z4\n",
      "05z5\n",
      "17z1\n",
      "14z4\n",
      "05z2\n",
      "15z2\n",
      "07z1\n",
      "07z4\n",
      "21z1\n",
      "09z1\n",
      "13z2\n",
      "10z2\n",
      "18z1\n",
      "18z3\n",
      "62z2\n",
      "14z2\n",
      "06z1\n",
      "14z3\n",
      "24z2\n",
      "11z4\n",
      "10z1\n",
      "12z3\n"
     ]
    }
   ],
   "source": [
    "pet_final = np.zeros((len(trainset)*171, 200, 200))\n",
    "ct_final = np.zeros((len(trainset)*171, 200, 200))\n",
    "\n",
    "for idx, i in enumerate(trainset):\n",
    "    print(i)\n",
    "    pet_img = sitk.GetArrayFromImage(sitk.ReadImage(os.path.join(path_out, i + '_pet.nii.gz')))\n",
    "    ct_img = sitk.GetArrayFromImage(sitk.ReadImage(os.path.join(path_out, i + '_ct.nii.gz')))\n",
    "    for x in range(pet_img.shape[0]):\n",
    "        pet_final[idx*171+x,:,:] = pet_img[x,:,:]\n",
    "        ct_final[idx*171+x,:,:] = ct_img[x,:,:]\n",
    "    del pet_img, ct_img\n",
    "    \n",
    "np.save('/home/peter/Documents/data/pet.npy', pet_final)\n",
    "np.save('/home/peter/Documents/data/ct.npy', ct_final)"
   ]
  },
  {
   "cell_type": "code",
   "execution_count": 95,
   "metadata": {},
   "outputs": [
    {
     "name": "stdout",
     "output_type": "stream",
     "text": [
      "/home/peter/Documents/data/input_converted/20z1_pet.nii.gz\n",
      "/home/peter/Documents/data/input_converted/12z2_pet.nii.gz\n",
      "/home/peter/Documents/data/input_converted/11z2_pet.nii.gz\n",
      "/home/peter/Documents/data/input_converted/28z1_pet.nii.gz\n",
      "/home/peter/Documents/data/input_converted/07z3_pet.nii.gz\n",
      "/home/peter/Documents/data/input_converted/18z2_pet.nii.gz\n",
      "/home/peter/Documents/data/input_converted/14z1_pet.nii.gz\n",
      "/home/peter/Documents/data/input_converted/05z1_pet.nii.gz\n",
      "/home/peter/Documents/data/input_converted/15z1_pet.nii.gz\n",
      "/home/peter/Documents/data/input_converted/23z1_pet.nii.gz\n",
      "/home/peter/Documents/data/input_converted/05z3_pet.nii.gz\n",
      "/home/peter/Documents/data/input_converted/29z1_pet.nii.gz\n",
      "/home/peter/Documents/data/input_converted/05z4_pet.nii.gz\n",
      "/home/peter/Documents/data/input_converted/05z5_pet.nii.gz\n",
      "/home/peter/Documents/data/input_converted/17z1_pet.nii.gz\n",
      "/home/peter/Documents/data/input_converted/14z4_pet.nii.gz\n",
      "/home/peter/Documents/data/input_converted/05z2_pet.nii.gz\n",
      "/home/peter/Documents/data/input_converted/15z2_pet.nii.gz\n",
      "/home/peter/Documents/data/input_converted/07z1_pet.nii.gz\n",
      "/home/peter/Documents/data/input_converted/07z4_pet.nii.gz\n",
      "/home/peter/Documents/data/input_converted/21z1_pet.nii.gz\n",
      "/home/peter/Documents/data/input_converted/24z1_pet.nii.gz\n",
      "/home/peter/Documents/data/input_converted/09z1_pet.nii.gz\n",
      "/home/peter/Documents/data/input_converted/13z2_pet.nii.gz\n",
      "/home/peter/Documents/data/input_converted/25z1_pet.nii.gz\n",
      "/home/peter/Documents/data/input_converted/10z2_pet.nii.gz\n",
      "/home/peter/Documents/data/input_converted/18z1_pet.nii.gz\n",
      "/home/peter/Documents/data/input_converted/62z2_pet.nii.gz\n",
      "/home/peter/Documents/data/input_converted/14z2_pet.nii.gz\n",
      "/home/peter/Documents/data/input_converted/14z3_pet.nii.gz\n",
      "/home/peter/Documents/data/input_converted/27z1_pet.nii.gz\n",
      "/home/peter/Documents/data/input_converted/24z2_pet.nii.gz\n",
      "/home/peter/Documents/data/input_converted/11z4_pet.nii.gz\n",
      "/home/peter/Documents/data/input_converted/10z1_pet.nii.gz\n",
      "/home/peter/Documents/data/input_converted/12z1_pet.nii.gz\n",
      "/home/peter/Documents/data/input_converted/12z3_pet.nii.gz\n",
      "/home/peter/Documents/data/input_converted/16z1_pet.nii.gz\n",
      "/home/peter/Documents/data/input_converted/11z3_pet.nii.gz\n",
      "/home/peter/Documents/data/input_converted/11z1_pet.nii.gz\n",
      "/home/peter/Documents/data/input_converted/05z9_pet.nii.gz\n"
     ]
    }
   ],
   "source": [
    "# save image name lists to text files\n"
   ]
  },
  {
   "cell_type": "code",
   "execution_count": null,
   "metadata": {},
   "outputs": [],
   "source": []
  }
 ],
 "metadata": {
  "kernelspec": {
   "display_name": "Python 3",
   "language": "python",
   "name": "python3"
  },
  "language_info": {
   "codemirror_mode": {
    "name": "ipython",
    "version": 3
   },
   "file_extension": ".py",
   "mimetype": "text/x-python",
   "name": "python",
   "nbconvert_exporter": "python",
   "pygments_lexer": "ipython3",
   "version": "3.6.7"
  }
 },
 "nbformat": 4,
 "nbformat_minor": 2
}
