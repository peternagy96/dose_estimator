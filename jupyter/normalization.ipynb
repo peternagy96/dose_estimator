{
 "cells": [
  {
   "cell_type": "code",
   "execution_count": 1,
   "metadata": {},
   "outputs": [],
   "source": [
    "import numpy as np\n",
    "import SimpleITK as sitk\n",
    "import matplotlib.pyplot as plt\n",
    "from PIL import Image\n",
    "from scipy import signal\n",
    "import cv2\n",
    "\n",
    "import os\n",
    "import random"
   ]
  },
  {
   "cell_type": "code",
   "execution_count": 65,
   "metadata": {},
   "outputs": [],
   "source": [
    "dose = np.load('/home/peter/Documents/dose_estimator-git/data/numpy/dose_test.npy')\n",
    "pet = np.load('/home/peter/Documents/dose_estimator-git/data/numpy/pet_test.npy')\n",
    "ct = np.load('/home/peter/Documents/dose_estimator-git/data/numpy/ct_test.npy')"
   ]
  },
  {
   "cell_type": "code",
   "execution_count": 50,
   "metadata": {},
   "outputs": [],
   "source": [
    "ct = np.load('/home/peter/Documents/dose_estimator-git/data/numpy/ct_train.npy')"
   ]
  },
  {
   "cell_type": "code",
   "execution_count": 66,
   "metadata": {},
   "outputs": [
    {
     "data": {
      "text/plain": [
       "(405, 128, 128)"
      ]
     },
     "execution_count": 66,
     "metadata": {},
     "output_type": "execute_result"
    }
   ],
   "source": [
    "ct.shape"
   ]
  },
  {
   "cell_type": "code",
   "execution_count": 67,
   "metadata": {},
   "outputs": [
    {
     "name": "stdout",
     "output_type": "stream",
     "text": [
      "-1024.0103759765625\n",
      "1114.7335205078125\n",
      " \n",
      "-1024.0103759765625\n",
      "1136.85205078125\n",
      " \n",
      "-1024.0103759765625\n",
      "1126.72998046875\n",
      " \n",
      "-1024.0103759765625\n",
      "1114.546142578125\n",
      " \n",
      "-1024.0103759765625\n",
      "1116.79541015625\n",
      " \n",
      "-1024.0103759765625\n",
      "893.455078125\n",
      " \n",
      "-1024.0103759765625\n",
      "1085.0235595703125\n",
      " \n",
      "-1024.0103759765625\n",
      "1045.2852783203125\n",
      " \n",
      "-1024.0103759765625\n",
      "905.17041015625\n",
      " \n",
      "-1024.0103759765625\n",
      "906.1076049804688\n",
      " \n",
      "-1024.0103759765625\n",
      "856.9971313476562\n",
      " \n",
      "-1024.0103759765625\n",
      "886.6133422851562\n",
      " \n",
      "-1024.0103759765625\n",
      "1016.2313842773438\n",
      " \n",
      "-1024.0103759765625\n",
      "1099.8316650390625\n",
      " \n",
      "-1024.0103759765625\n",
      "1091.4903564453125\n",
      " \n",
      "-1024.0103759765625\n",
      "1029.2587890625\n",
      " \n",
      "-1024.0103759765625\n",
      "986.146484375\n",
      " \n",
      "-1024.0103759765625\n",
      "1625.3328857421875\n",
      " \n",
      "-1024.0103759765625\n",
      "2832.101806640625\n",
      " \n",
      "-1024.0103759765625\n",
      "3059.28466796875\n",
      " \n",
      "-1024.0103759765625\n",
      "3070.8125\n",
      " \n",
      "-1024.0103759765625\n",
      "3071.0\n",
      " \n",
      "-1024.0103759765625\n",
      "3070.625244140625\n",
      " \n",
      "-1024.0103759765625\n",
      "3071.0\n",
      " \n",
      "-1024.0103759765625\n",
      "3071.0\n",
      " \n",
      "-1024.0103759765625\n",
      "2848.221923828125\n",
      " \n",
      "-1024.0103759765625\n",
      "3067.251220703125\n",
      " \n",
      "-1024.0103759765625\n",
      "3071.0\n",
      " \n",
      "-1024.0103759765625\n",
      "3069.59423828125\n",
      " \n",
      "-1024.0103759765625\n",
      "2453.55712890625\n",
      " \n",
      "-1024.0103759765625\n",
      "1118.763671875\n",
      " \n",
      "-1024.0103759765625\n",
      "824.6629028320312\n",
      " \n",
      "-1024.0103759765625\n",
      "791.672607421875\n",
      " \n",
      "-1024.0103759765625\n",
      "740.9688720703125\n",
      " \n",
      "-1024.0103759765625\n",
      "776.02099609375\n",
      " \n",
      "-1024.0103759765625\n",
      "782.3941040039062\n",
      " \n",
      "-1024.0103759765625\n",
      "782.3004150390625\n",
      " \n",
      "-1024.0103759765625\n",
      "864.3074340820312\n",
      " \n",
      "-1024.0103759765625\n",
      "921.0094604492188\n",
      " \n",
      "-1024.0103759765625\n",
      "930.4754028320312\n",
      " \n",
      "-1024.0103759765625\n",
      "1020.8237915039062\n",
      " \n",
      "-1024.0103759765625\n",
      "919.3224487304688\n",
      " \n",
      "-1024.0103759765625\n",
      "883.5205078125\n",
      " \n",
      "-1024.0103759765625\n",
      "889.9873657226562\n",
      " \n",
      "-1024.0103759765625\n",
      "872.5549926757812\n",
      " \n",
      "-1024.0103759765625\n",
      "790.6416625976562\n",
      " \n",
      "-1024.0103759765625\n",
      "724.7548828125\n",
      " \n",
      "-1024.0103759765625\n",
      "714.5391235351562\n",
      " \n",
      "-1024.0103759765625\n",
      "776.5833129882812\n",
      " \n",
      "-1024.0103759765625\n",
      "941.44091796875\n",
      " \n",
      "-1024.0103759765625\n",
      "844.719482421875\n",
      " \n",
      "-1024.0103759765625\n",
      "711.9149169921875\n",
      " \n",
      "-1024.0103759765625\n",
      "1036.569091796875\n",
      " \n",
      "-1024.0103759765625\n",
      "1001.7981567382812\n",
      " \n",
      "-1024.0103759765625\n",
      "1033.5699462890625\n",
      " \n",
      "-1024.0103759765625\n",
      "995.237548828125\n",
      " \n",
      "-1024.0103759765625\n",
      "944.3463134765625\n",
      " \n",
      "-1024.0103759765625\n",
      "860.5585327148438\n",
      " \n",
      "-1024.0103759765625\n",
      "783.6124877929688\n",
      " \n",
      "-1024.0103759765625\n",
      "698.9812622070312\n",
      " \n",
      "-1024.0103759765625\n",
      "677.4251098632812\n",
      " \n",
      "-1024.0103759765625\n",
      "693.6390380859375\n",
      " \n",
      "-1024.0103759765625\n",
      "771.2411499023438\n",
      " \n",
      "-1024.0103759765625\n",
      "828.0369262695312\n",
      " \n",
      "-1024.0103759765625\n",
      "1033.5699462890625\n",
      " \n",
      "-1024.0103759765625\n",
      "1065.529296875\n",
      " \n",
      "-1024.0103759765625\n",
      "1136.1959228515625\n",
      " \n",
      "-1024.0103759765625\n",
      "1223.1702880859375\n",
      " \n",
      "-1024.0103759765625\n",
      "1248.1004638671875\n",
      " \n",
      "-1024.0103759765625\n",
      "1207.9873046875\n",
      " \n",
      "-1024.0103759765625\n",
      "1171.716796875\n",
      " \n",
      "-1024.0103759765625\n",
      "1120.7318115234375\n",
      " \n",
      "-1024.0103759765625\n",
      "1102.4559326171875\n",
      " \n",
      "-1024.0103759765625\n",
      "1106.298583984375\n",
      " \n",
      "-1024.0103759765625\n",
      "1107.3294677734375\n",
      " \n",
      "-1024.0103759765625\n",
      "870.5868530273438\n",
      " \n",
      "-1024.0103759765625\n",
      "885.1138305664062\n",
      " \n",
      "-1024.0103759765625\n",
      "670.3021850585938\n",
      " \n",
      "-1024.0103759765625\n",
      "762.80615234375\n",
      " \n",
      "-1024.0103759765625\n",
      "1001.3295288085938\n",
      " \n",
      "-1024.0103759765625\n",
      "1009.7645263671875\n",
      " \n",
      "0.0\n",
      "0.0\n",
      " \n",
      "0.0\n",
      "0.0\n",
      " \n",
      "0.0\n",
      "0.0\n",
      " \n",
      "0.0\n",
      "0.0\n",
      " \n",
      "0.0\n",
      "0.0\n",
      " \n",
      "0.0\n",
      "0.0\n",
      " \n",
      "0.0\n",
      "0.0\n",
      " \n",
      "0.0\n",
      "0.0\n",
      " \n",
      "0.0\n",
      "0.0\n",
      " \n",
      "0.0\n",
      "0.0\n",
      " \n",
      "0.0\n",
      "0.0\n",
      " \n",
      "0.0\n",
      "0.0\n",
      " \n",
      "0.0\n",
      "0.0\n",
      " \n",
      "0.0\n",
      "0.0\n",
      " \n",
      "-1024.0\n",
      "0.0\n",
      " \n",
      "-1024.0\n",
      "711.0\n",
      " \n",
      "-1024.0\n",
      "658.0\n",
      " \n",
      "-1024.0\n",
      "-945.0\n",
      " \n",
      "-1024.0\n",
      "703.0\n",
      " \n"
     ]
    }
   ],
   "source": [
    "for x in range(0, 100):\n",
    "    #print(pet[x].mean())\n",
    "    #print(dose[x].mean())\n",
    "    print(ct[x].min())\n",
    "    print(ct[x].max())\n",
    "    print(\" \")"
   ]
  },
  {
   "cell_type": "code",
   "execution_count": 68,
   "metadata": {},
   "outputs": [],
   "source": [
    "def normalize_array(inp, img_size=81):\n",
    "    array = inp.copy()\n",
    "    for i in range(array.shape[0]):\n",
    "        pic = array[i:(i+1),:,:]\n",
    "        pic = pic + pic.min()\n",
    "        mask = (pic != 0.0)\n",
    "        pic[mask] = pic[mask] / pic.max()\n",
    "        #pic[mask] = ((pic[mask] - pic.min()) / (pic.max() - pic.min()))  # pic / np.linalg.norm(pic) -1 # \n",
    "        #pic[mask] = (pic[mask] - pic.mean()) / pic.std()\n",
    "        #pic[mask] = ((pic[mask] - pic.min()) / (pic.max() - pic.min()))\n",
    "        array[i:(i+1),:,:] = pic\n",
    "    return array"
   ]
  },
  {
   "cell_type": "code",
   "execution_count": 69,
   "metadata": {},
   "outputs": [],
   "source": [
    "def filter_zeros(array):\n",
    "    bad_idx = []\n",
    "    for i in range(array.shape[0]):\n",
    "        if np.count_nonzero(array[i,:,:]) == 0:\n",
    "            bad_idx.append(i)\n",
    "    for idx in bad_idx:\n",
    "        while True:\n",
    "            rand_idx = random.choice(range(array.shape[0]))\n",
    "            if rand_idx not in bad_idx: break\n",
    "        array[idx] = array[rand_idx]\n",
    "    return array"
   ]
  },
  {
   "cell_type": "code",
   "execution_count": 12,
   "metadata": {},
   "outputs": [],
   "source": [
    "def upscale_array(array):\n",
    "    out = np.empty((array.shape[0], 200, 200))\n",
    "    for i in range(array.shape[0]):\n",
    "        pic = array[i,:,:]\n",
    "        out[i,:,:] = cv2.resize(pic, dsize=(200, 200))\n",
    "    return out"
   ]
  },
  {
   "cell_type": "code",
   "execution_count": 70,
   "metadata": {},
   "outputs": [],
   "source": [
    "dose_norm = normalize_array(dose)\n",
    "pet_norm = normalize_array(pet)"
   ]
  },
  {
   "cell_type": "code",
   "execution_count": 71,
   "metadata": {},
   "outputs": [],
   "source": [
    "pet_norm = filter_zeros(pet_norm)\n",
    "dose_norm = filter_zeros(dose_norm)"
   ]
  },
  {
   "cell_type": "code",
   "execution_count": 72,
   "metadata": {},
   "outputs": [
    {
     "data": {
      "text/plain": [
       "(405, 128, 128)"
      ]
     },
     "execution_count": 72,
     "metadata": {},
     "output_type": "execute_result"
    }
   ],
   "source": [
    "pet_norm.shape"
   ]
  },
  {
   "cell_type": "code",
   "execution_count": 73,
   "metadata": {},
   "outputs": [],
   "source": [
    "ct_norm = normalize_array(ct)"
   ]
  },
  {
   "cell_type": "code",
   "execution_count": 74,
   "metadata": {},
   "outputs": [],
   "source": [
    "ct_norm = filter_zeros(ct_norm)\n"
   ]
  },
  {
   "cell_type": "code",
   "execution_count": 75,
   "metadata": {},
   "outputs": [],
   "source": [
    "count_pet = 0\n",
    "count_dose = 0\n",
    "count_ct = 0\n",
    "for x in range(ct_norm.shape[0]):\n",
    "    \"\"\"if np.count_nonzero(pet_norm[x]) == 0:\n",
    "        count_pet += 1\n",
    "    if np.count_nonzero(dose_norm[x]) == 0:\n",
    "        count_dose += 1\"\"\"\n",
    "    if np.count_nonzero(ct_norm[x]) == 0:\n",
    "        count_ct += 1"
   ]
  },
  {
   "cell_type": "code",
   "execution_count": 77,
   "metadata": {},
   "outputs": [
    {
     "data": {
      "text/plain": [
       "0"
      ]
     },
     "execution_count": 77,
     "metadata": {},
     "output_type": "execute_result"
    }
   ],
   "source": [
    "count_pet"
   ]
  },
  {
   "cell_type": "code",
   "execution_count": 78,
   "metadata": {},
   "outputs": [
    {
     "data": {
      "text/plain": [
       "(405, 128, 128)"
      ]
     },
     "execution_count": 78,
     "metadata": {},
     "output_type": "execute_result"
    }
   ],
   "source": [
    "ct_norm.shape"
   ]
  },
  {
   "cell_type": "code",
   "execution_count": 79,
   "metadata": {
    "scrolled": true
   },
   "outputs": [
    {
     "data": {
      "text/plain": [
       "<matplotlib.image.AxesImage at 0x7f781c668080>"
      ]
     },
     "execution_count": 79,
     "metadata": {},
     "output_type": "execute_result"
    },
    {
     "data": {
      "image/png": "[encoded data removed]",
      "text/plain": [
       "<Figure size 1080x360 with 4 Axes>"
      ]
     },
     "metadata": {
      "needs_background": "light"
     },
     "output_type": "display_data"
    }
   ],
   "source": [
    "x = 60\n",
    "fig, axes = plt.subplots(1, 4, figsize=(15,5))\n",
    "axes[0].imshow(ct[x], cmap=\"gray\")\n",
    "axes[1].imshow(pet[x], cmap=\"gray\")\n",
    "axes[2].imshow(dose[x], cmap=\"gray\")\n",
    "axes[3].imshow(dose_norm[x], cmap=\"gray\")"
   ]
  },
  {
   "cell_type": "code",
   "execution_count": 80,
   "metadata": {},
   "outputs": [
    {
     "data": {
      "text/plain": [
       "0"
      ]
     },
     "execution_count": 80,
     "metadata": {},
     "output_type": "execute_result"
    }
   ],
   "source": [
    "np.sum(np.isnan(ct_norm))"
   ]
  },
  {
   "cell_type": "code",
   "execution_count": null,
   "metadata": {},
   "outputs": [],
   "source": []
  }
 ],
 "metadata": {
  "kernelspec": {
   "display_name": "Python 3",
   "language": "python",
   "name": "python3"
  },
  "language_info": {
   "codemirror_mode": {
    "name": "ipython",
    "version": 3
   },
   "file_extension": ".py",
   "mimetype": "text/x-python",
   "name": "python",
   "nbconvert_exporter": "python",
   "pygments_lexer": "ipython3",
   "version": "3.6.7"
  }
 },
 "nbformat": 4,
 "nbformat_minor": 2
}
