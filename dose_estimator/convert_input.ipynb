{
 "cells": [
  {
   "cell_type": "code",
   "execution_count": null,
   "metadata": {},
   "outputs": [],
   "source": [
    "import numpy as np\n",
    "#import simpleITK as sitk\n",
    "import matplotlib.pyplot as plt\n",
    "from PIL import Image\n",
    "from scipy import signal\n",
    "import cv2\n",
    "\n",
    "import os\n",
    "import random"
   ]
  },
  {
   "cell_type": "code",
   "execution_count": 9,
   "metadata": {},
   "outputs": [],
   "source": [
    "path = '/home/peter/Documents/data/input/'\n",
    "path_out = '/home/peter/Documents/data/input_converted/'"
   ]
  },
  {
   "cell_type": "code",
   "execution_count": 10,
   "metadata": {},
   "outputs": [
    {
     "name": "stdout",
     "output_type": "stream",
     "text": [
      "/home/peter/Documents/data/input/20z1/8_pet_tk_it_nac.nii.gz\n"
     ]
    }
   ],
   "source": [
    "# go through file system\n",
    "pet = []\n",
    "ct = []\n",
    "\n",
    "for r, d, f in os.walk(path):\n",
    "    for file in f:\n",
    "        if '.nii.gz' in file:\n",
    "            if 'pet' in file:\n",
    "                pet.append(os.path.join(r, file))\n",
    "            else:\n",
    "                ct.append(os.path.join(r, file))\n",
    "print(pet[0])"
   ]
  },
  {
   "cell_type": "code",
   "execution_count": null,
   "metadata": {},
   "outputs": [],
   "source": [
    "# SAVE IN NEW FOLDER STRUCTURE ------------------------------------------------------------------------------------------"
   ]
  },
  {
   "cell_type": "code",
   "execution_count": 71,
   "metadata": {},
   "outputs": [],
   "source": [
    "ref_size = (171, 200, 200)"
   ]
  },
  {
   "cell_type": "code",
   "execution_count": null,
   "metadata": {
    "scrolled": true
   },
   "outputs": [],
   "source": [
    "# save pet images (third dimension must match)\n",
    "\n",
    "for p in pet:\n",
    "    # load image\n",
    "    orig_nii = sitk.ReadImage(p)\n",
    "    orig = sitk.GetArrayFromImage(orig_nii)\n",
    "    print(orig.shape)\n",
    "    out = np.zeros(ref_size)\n",
    "    \n",
    "    # check size\n",
    "    if orig.size != ref_size: \n",
    "        for s in range(171): #orig.shape[0]\n",
    "            out[s,:,:] = cv2.resize(orig[s,:,:], ref_size[1:])\n",
    "            \n",
    "    # convert pack to NIFTI\n",
    "    itkimage = sitk.GetImageFromArray(out, isVector=False)\n",
    "    \n",
    "    # copy metadata\n",
    "    for k in orig_nii.GetMetaDataKeys():\n",
    "        itkimage.SetMetaData(k, orig_nii.GetMetaData(k))\n",
    "    itkimage.SetMetaData('dim[1]', str(ref_size[1]))\n",
    "    itkimage.SetMetaData('dim[2]', str(ref_size[2]))\n",
    "    itkimage.SetMetaData('dim[3]', str(ref_size[0]))\n",
    "    \n",
    "    # new filename\n",
    "    filename = p.split('/')[-2] + '_pet.nii.gz'\n",
    "    \n",
    "    # save to new folder\n",
    "    sitk.WriteImage(itkimage, os.path.join(path_out, filename), True)"
   ]
  },
  {
   "cell_type": "code",
   "execution_count": null,
   "metadata": {},
   "outputs": [],
   "source": [
    "# save ct images\n",
    "\n",
    "for p in ct:\n",
    "    # load image\n",
    "    orig_nii = sitk.ReadImage(p)\n",
    "    orig = sitk.GetArrayFromImage(orig_nii)\n",
    "    print(orig.shape)\n",
    "    out = np.zeros(ref_size)\n",
    "    \n",
    "    # check size\n",
    "    if orig.size != ref_size: \n",
    "        for s in range(171): #orig.shape[0]\n",
    "            out[s,:,:] = cv2.resize(orig[s,:,:], ref_size[1:])\n",
    "            \n",
    "    # convert pack to NIFTI\n",
    "    itkimage = sitk.GetImageFromArray(out, isVector=False)\n",
    "    \n",
    "    # copy metadata\n",
    "    for k in orig_nii.GetMetaDataKeys():\n",
    "        itkimage.SetMetaData(k, orig_nii.GetMetaData(k))\n",
    "    itkimage.SetMetaData('dim[1]', str(ref_size[1]))\n",
    "    itkimage.SetMetaData('dim[2]', str(ref_size[2]))\n",
    "    itkimage.SetMetaData('dim[3]', str(ref_size[0]))\n",
    "    \n",
    "    # new filename\n",
    "    filename = p.split('/')[-2] + '_ct.nii.gz'\n",
    "    \n",
    "    # save to new folder\n",
    "    sitk.WriteImage(itkimage, os.path.join(path_out, filename), True)"
   ]
  },
  {
   "cell_type": "code",
   "execution_count": null,
   "metadata": {},
   "outputs": [],
   "source": [
    "# SAVE AS NUMPY FILES ---------------------------------------------------------------------------------------------------"
   ]
  },
  {
   "cell_type": "code",
   "execution_count": 11,
   "metadata": {},
   "outputs": [
    {
     "name": "stdout",
     "output_type": "stream",
     "text": [
      "['07z2', '29z1', '11z3', '11z3', '27z1', '14z1', '16z1', '05z5']\n"
     ]
    }
   ],
   "source": [
    "# select test set\n",
    "testset_size = 8\n",
    "\n",
    "dataset = [x.split('/')[-2] for x in pet]\n",
    "testset = random.choices(dataset,k=testset_size)\n",
    "trainset = [x for x in dataset if x not in testset]\n",
    "print(testset)"
   ]
  },
  {
   "cell_type": "code",
   "execution_count": 12,
   "metadata": {},
   "outputs": [
    {
     "name": "stdout",
     "output_type": "stream",
     "text": [
      "20z1\n",
      "12z2\n",
      "11z2\n",
      "20z2\n",
      "28z1\n",
      "07z3\n",
      "18z2\n",
      "05z1\n",
      "15z1\n",
      "23z1\n",
      "05z3\n",
      "12z4\n",
      "08z1\n",
      "05z4\n",
      "17z1\n",
      "14z4\n",
      "05z2\n",
      "15z2\n",
      "07z1\n",
      "07z4\n",
      "21z1\n",
      "24z1\n",
      "09z1\n",
      "13z2\n",
      "25z1\n",
      "10z2\n",
      "18z1\n",
      "18z3\n",
      "13z1\n",
      "62z2\n",
      "14z2\n",
      "06z1\n",
      "14z3\n",
      "24z2\n",
      "11z4\n",
      "10z1\n",
      "12z1\n",
      "12z3\n",
      "11z1\n",
      "62z1\n",
      "05z9\n"
     ]
    }
   ],
   "source": [
    "pet_final = np.zeros((len(trainset)*171, 200, 200))\n",
    "ct_final = np.zeros((len(trainset)*171, 200, 200))\n",
    "\n",
    "for idx, i in enumerate(trainset):\n",
    "    print(i)\n",
    "    pet_img = sitk.GetArrayFromImage(sitk.ReadImage(os.path.join(path_out, i + '_pet.nii.gz')))\n",
    "    ct_img = sitk.GetArrayFromImage(sitk.ReadImage(os.path.join(path_out, i + '_ct.nii.gz')))\n",
    "    for x in range(pet_img.shape[0]):\n",
    "        pet_final[idx*171+x,:,:] = pet_img[x,:,:]\n",
    "        ct_final[idx*171+x,:,:] = ct_img[x,:,:]\n",
    "    del pet_img, ct_img\n",
    "    \n",
    "np.save('/home/peter/Documents/data/pet_train.npy', pet_final)\n",
    "np.save('/home/peter/Documents/data/ct_train.npy', ct_final)"
   ]
  },
  {
   "cell_type": "code",
   "execution_count": 13,
   "metadata": {},
   "outputs": [],
   "source": [
    "del pet_final, ct_final"
   ]
  },
  {
   "cell_type": "code",
   "execution_count": 14,
   "metadata": {},
   "outputs": [
    {
     "name": "stdout",
     "output_type": "stream",
     "text": [
      "07z2\n",
      "29z1\n",
      "11z3\n",
      "11z3\n",
      "27z1\n",
      "14z1\n",
      "16z1\n",
      "05z5\n"
     ]
    }
   ],
   "source": [
    "pet_final2 = np.zeros((len(testset)*171, 200, 200))\n",
    "ct_final2 = np.zeros((len(testset)*171, 200, 200))\n",
    "\n",
    "for idx, i in enumerate(testset):\n",
    "    print(i)\n",
    "    pet_img = sitk.GetArrayFromImage(sitk.ReadImage(os.path.join(path_out, i + '_pet.nii.gz')))\n",
    "    ct_img = sitk.GetArrayFromImage(sitk.ReadImage(os.path.join(path_out, i + '_ct.nii.gz')))\n",
    "    for x in range(pet_img.shape[0]):\n",
    "        pet_final2[idx*171+x,:,:] = pet_img[x,:,:]\n",
    "        ct_final2[idx*171+x,:,:] = ct_img[x,:,:]\n",
    "    del pet_img, ct_img\n",
    "    \n",
    "np.save('/home/peter/Documents/data/pet_test.npy', pet_final2)\n",
    "np.save('/home/peter/Documents/data/ct_test.npy', ct_final2)"
   ]
  },
  {
   "cell_type": "code",
   "execution_count": 15,
   "metadata": {},
   "outputs": [],
   "source": [
    "# save image name lists to text files\n",
    "with open('/home/peter/Documents/data/train.txt', 'w') as f:\n",
    "    for item in trainset:\n",
    "        f.write(\"%s\\n\" % item)\n",
    "\n",
    "with open('/home/peter/Documents/data/test.txt', 'w') as f:\n",
    "    for item in testset:\n",
    "        f.write(\"%s\\n\" % item)"
   ]
  },
  {
   "cell_type": "code",
   "execution_count": 16,
   "metadata": {},
   "outputs": [
    {
     "data": {
      "text/plain": [
       "['07z2', '29z1', '11z3', '11z3', '27z1', '14z1', '16z1', '05z5']"
      ]
     },
     "execution_count": 16,
     "metadata": {},
     "output_type": "execute_result"
    }
   ],
   "source": [
    "text_file = open(\"/home/peter/Documents/data/test.txt\", \"r\", encoding='utf8')\n",
    "list1 = text_file.read().splitlines()\n",
    "list1"
   ]
  },
  {
   "cell_type": "code",
   "execution_count": null,
   "metadata": {},
   "outputs": [],
   "source": []
  }
 ],
 "metadata": {
  "kernelspec": {
   "display_name": "Python 3",
   "language": "python",
   "name": "python3"
  },
  "language_info": {
   "codemirror_mode": {
    "name": "ipython",
    "version": 3
   },
   "file_extension": ".py",
   "mimetype": "text/x-python",
   "name": "python",
   "nbconvert_exporter": "python",
   "pygments_lexer": "ipython3",
   "version": "3.6.4"
  }
 },
 "nbformat": 4,
 "nbformat_minor": 2
}
