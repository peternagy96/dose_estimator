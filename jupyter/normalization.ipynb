{
 "cells": [
  {
   "cell_type": "code",
   "execution_count": 3,
   "metadata": {},
   "outputs": [],
   "source": [
    "import numpy as np\n",
    "import SimpleITK as sitk\n",
    "import matplotlib.pyplot as plt\n",
    "from PIL import Image\n",
    "from scipy import signal\n",
    "import cv2\n",
    "\n",
    "import os\n",
    "import random"
   ]
  },
  {
   "cell_type": "code",
   "execution_count": 31,
   "metadata": {},
   "outputs": [],
   "source": [
    "dose = np.load('/home/peter/Documents/dose_estimator-git/data/numpy/dose_test.npy')\n",
    "pet = np.load('/home/peter/Documents/dose_estimator-git/data/numpy/pet_test.npy')\n",
    "ct = np.load('/home/peter/Documents/dose_estimator-git/data/numpy/ct_test.npy')"
   ]
  },
  {
   "cell_type": "code",
   "execution_count": 32,
   "metadata": {},
   "outputs": [
    {
     "data": {
      "text/plain": [
       "(405, 128, 128)"
      ]
     },
     "execution_count": 32,
     "metadata": {},
     "output_type": "execute_result"
    }
   ],
   "source": [
    "dose.shape"
   ]
  },
  {
   "cell_type": "code",
   "execution_count": 9,
   "metadata": {},
   "outputs": [
    {
     "name": "stdout",
     "output_type": "stream",
     "text": [
      "0.0\n",
      "-760.9548647301854\n",
      " \n",
      "0.0\n",
      "-760.8633909488562\n",
      " \n",
      "0.0\n",
      "-760.7912969859899\n",
      " \n",
      "0.0\n",
      "-760.2927564222482\n",
      " \n",
      "0.0\n",
      "-759.3861366950441\n",
      " \n",
      "0.0\n",
      "-759.0543620015378\n",
      " \n",
      "0.0\n",
      "-758.5676167348865\n",
      " \n",
      "0.0\n",
      "-757.559317572799\n",
      " \n",
      "0.0\n",
      "-756.4483783291071\n",
      " \n",
      "8.37584913426781e-07\n",
      "-755.7812417239184\n",
      " \n",
      "3.2340084210602527e-06\n",
      "-755.1116393486736\n",
      " \n",
      "7.049673039105642e-06\n",
      "-754.874255978677\n",
      " \n",
      "0.0005005965824267378\n",
      "-754.3749828300206\n",
      " \n",
      "0.003655732414054924\n",
      "-753.3815227454761\n",
      " \n",
      "0.011576447215270846\n",
      "-752.8886397559545\n",
      " \n",
      "0.017559525631481776\n",
      "-752.1470810774481\n",
      " \n",
      "0.023859118091783316\n",
      "-751.0383383783046\n",
      " \n",
      "0.029074433630357888\n",
      "-749.1277444866719\n",
      " \n",
      "0.031816826247940355\n",
      "-745.9822914590477\n",
      " \n",
      "0.03376328051879085\n",
      "-743.0068986020051\n",
      " \n",
      "0.03574986904443911\n",
      "-742.4702545790933\n",
      " \n",
      "0.03786007117795975\n",
      "-744.3748591126059\n",
      " \n",
      "0.039807223418275584\n",
      "-745.30167151551\n",
      " \n",
      "0.041684670032916316\n",
      "-745.0325630786829\n",
      " \n",
      "0.04273663012535245\n",
      "-742.6033844194026\n",
      " \n",
      "0.04452405964982553\n",
      "-737.9945493630366\n",
      " \n",
      "0.048126977700354345\n",
      "-734.7890152510372\n",
      " \n",
      "0.05338226458152384\n",
      "-735.7425247613573\n",
      " \n",
      "0.0596725039420285\n",
      "-736.9652168888715\n",
      " \n",
      "0.0675516421713489\n",
      "-736.7849398485268\n",
      " \n",
      "0.07916508256111676\n",
      "-736.3958295025514\n",
      " \n",
      "0.09140012736274805\n",
      "-736.090551259229\n",
      " \n",
      "0.1031080524539334\n",
      "-736.3313437859179\n",
      " \n",
      "0.11405870720239086\n",
      "-736.6535829449422\n",
      " \n",
      "0.1212000722006934\n",
      "-737.3908515238436\n",
      " \n",
      "0.12388839423996068\n",
      "-738.971924092155\n",
      " \n",
      "0.12690449101652135\n",
      "-739.7844036134193\n",
      " \n",
      "0.1336739221160581\n",
      "-740.0225249740179\n",
      " \n",
      "0.13838461596318297\n",
      "-740.4623921171296\n",
      " \n",
      "0.1362611523147983\n",
      "-740.8341235511471\n",
      " \n",
      "0.1335963524415842\n",
      "-741.3427263277699\n",
      " \n",
      "0.13289520120766696\n",
      "-742.3158393022604\n",
      " \n",
      "0.13328472433310523\n",
      "-743.3952766325092\n",
      " \n",
      "0.1336207817857673\n",
      "-744.8579663298442\n",
      " \n",
      "0.1306907240616635\n",
      "-745.7124735919642\n",
      " \n",
      "0.1206283044647396\n",
      "-746.9340728037641\n",
      " \n",
      "0.10297992503818953\n",
      "-748.9275834569125\n",
      " \n",
      "0.08354155683509035\n",
      "-750.6383079595398\n",
      " \n",
      "0.06837247527744417\n",
      "-751.7898615595186\n",
      " \n",
      "0.06175399566837214\n",
      "-752.4900790144457\n",
      " \n",
      "0.06440257866503529\n",
      "-752.5816278313869\n",
      " \n",
      "0.07120437308994987\n",
      "-750.9879873768077\n",
      " \n",
      "0.07794311599625559\n",
      "-750.4772222846514\n",
      " \n",
      "0.08315822216076718\n",
      "-750.1169487276929\n",
      " \n",
      "0.08528238401033761\n",
      "-749.7727717285743\n",
      " \n",
      "0.08438574938786303\n",
      "-749.2399319458054\n",
      " \n",
      "0.08657763936467155\n",
      "-749.4414144125185\n",
      " \n",
      "0.09107132888512481\n",
      "-749.0970487231389\n",
      " \n",
      "0.09467592206101116\n",
      "-749.528335125302\n",
      " \n",
      "0.09507158785048908\n",
      "-751.3064455222338\n",
      " \n",
      "0.09262879484530195\n",
      "-753.443313881231\n",
      " \n",
      "0.09035221571849306\n",
      "-754.6353506869636\n",
      " \n",
      "0.08977707408299374\n",
      "-756.2992369762505\n",
      " \n",
      "0.09080758264697764\n",
      "-757.9493598507834\n",
      " \n",
      "0.09001527378766738\n",
      "-759.7505062196287\n",
      " \n",
      "0.08479481657328236\n",
      "-762.7958416141919\n",
      " \n",
      "0.07720532001693492\n",
      "-766.3339288675925\n",
      " \n",
      "0.06999778546656721\n",
      "-769.2849066380877\n",
      " \n",
      "0.06454534042503113\n",
      "-771.5623586031143\n",
      " \n",
      "0.06171504791188198\n",
      "-774.2862902728957\n",
      " \n",
      "0.05992031284022481\n",
      "-776.5473303141771\n",
      " \n",
      "0.05754952875564001\n",
      "-778.774196925282\n",
      " \n",
      "0.054437388906224626\n",
      "-783.1847644937807\n",
      " \n",
      "0.05163520205882932\n",
      "-787.4540904918686\n",
      " \n",
      "0.049496498729167726\n",
      "-791.3795832496835\n",
      " \n",
      "0.04715558856221236\n",
      "-794.6551403981284\n",
      " \n",
      "0.04400108096435851\n",
      "-798.3632594319643\n",
      " \n",
      "0.041014671900766686\n",
      "-802.9782895564567\n",
      " \n",
      "0.03987046110880321\n",
      "-805.3227494201856\n",
      " \n",
      "0.039824184594799306\n",
      "-806.0817324540112\n",
      " \n",
      "0.040300491180826015\n",
      "-806.04656954034\n",
      " \n",
      "0.0\n",
      "0.0\n",
      " \n",
      "0.0\n",
      "0.0\n",
      " \n",
      "0.0\n",
      "0.0\n",
      " \n",
      "0.0\n",
      "0.0\n",
      " \n",
      "0.0\n",
      "0.0\n",
      " \n",
      "0.0\n",
      "0.0\n",
      " \n",
      "0.0\n",
      "0.0\n",
      " \n",
      "0.0\n",
      "0.0\n",
      " \n",
      "0.0\n",
      "0.0\n",
      " \n",
      "0.0\n",
      "0.0\n",
      " \n",
      "0.0\n",
      "0.0\n",
      " \n",
      "0.0\n",
      "0.0\n",
      " \n",
      "0.0\n",
      "0.0\n",
      " \n",
      "0.0\n",
      "0.0\n",
      " \n",
      "-0.97705078125\n",
      "-1.0\n",
      " \n",
      "-1009.1283569335938\n",
      "-932.8453979492188\n",
      " \n",
      "-769.8534545898438\n",
      "-799.5216674804688\n",
      " \n",
      "-959.1680908203125\n",
      "-1010.4657592773438\n",
      " \n",
      "-943.1047973632812\n",
      "-733.2391967773438\n",
      " \n"
     ]
    }
   ],
   "source": [
    "for x in range(0, 100):\n",
    "    print(pet[x].mean())\n",
    "    #print(dose[x].mean())\n",
    "    print(ct[x].mean())\n",
    "    print(\" \")"
   ]
  },
  {
   "cell_type": "code",
   "execution_count": 10,
   "metadata": {},
   "outputs": [],
   "source": [
    "def normalize_array(inp, img_size=81):\n",
    "    array = inp.copy()\n",
    "    for i in range(array.shape[0]):\n",
    "        pic = array[i:(i+1),:,:]\n",
    "        mask = (pic != 0.0)\n",
    "        pic[mask] = ((pic[mask] - pic.min()) / (pic.max() - pic.min()))  # pic / np.linalg.norm(pic) -1 # \n",
    "        #pic[mask] = (pic[mask] - pic.mean()) / pic.std()\n",
    "        #pic[mask] = ((pic[mask] - pic.min()) / (pic.max() - pic.min()))\n",
    "        array[i:(i+1),:,:] = pic\n",
    "    return array"
   ]
  },
  {
   "cell_type": "code",
   "execution_count": 11,
   "metadata": {},
   "outputs": [],
   "source": [
    "def filter_zeros(array):\n",
    "    bad_idx = []\n",
    "    for i in range(array.shape[0]):\n",
    "        if np.count_nonzero(array[i,:,:]) == 0:\n",
    "            bad_idx.append(i)\n",
    "    for idx in bad_idx:\n",
    "        while True:\n",
    "            rand_idx = random.choice(range(array.shape[0]))\n",
    "            if rand_idx not in bad_idx: break\n",
    "        array[idx] = array[rand_idx]\n",
    "    return array"
   ]
  },
  {
   "cell_type": "code",
   "execution_count": 12,
   "metadata": {},
   "outputs": [],
   "source": [
    "def upscale_array(array):\n",
    "    out = np.empty((array.shape[0], 200, 200))\n",
    "    for i in range(array.shape[0]):\n",
    "        pic = array[i,:,:]\n",
    "        out[i,:,:] = cv2.resize(pic, dsize=(200, 200))\n",
    "    return out"
   ]
  },
  {
   "cell_type": "code",
   "execution_count": 13,
   "metadata": {},
   "outputs": [],
   "source": [
    "dose_norm = normalize_array(dose)\n",
    "pet_norm = normalize_array(pet)"
   ]
  },
  {
   "cell_type": "code",
   "execution_count": 33,
   "metadata": {},
   "outputs": [],
   "source": [
    "pet_norm = filter_zeros(pet_norm)\n",
    "dose_norm = filter_zeros(dose_norm)"
   ]
  },
  {
   "cell_type": "code",
   "execution_count": 34,
   "metadata": {},
   "outputs": [
    {
     "data": {
      "text/plain": [
       "(405, 128, 128)"
      ]
     },
     "execution_count": 34,
     "metadata": {},
     "output_type": "execute_result"
    }
   ],
   "source": [
    "pet_norm.shape"
   ]
  },
  {
   "cell_type": "code",
   "execution_count": 35,
   "metadata": {},
   "outputs": [],
   "source": [
    "count_pet = 0\n",
    "count_dose = 0\n",
    "for x in range(pet_norm.shape[0]):\n",
    "    if np.count_nonzero(pet_norm[x]) == 0:\n",
    "        count_pet += 1\n",
    "    if np.count_nonzero(dose_norm[x]) == 0:\n",
    "        count_dose += 1"
   ]
  },
  {
   "cell_type": "code",
   "execution_count": 36,
   "metadata": {},
   "outputs": [
    {
     "data": {
      "text/plain": [
       "0"
      ]
     },
     "execution_count": 36,
     "metadata": {},
     "output_type": "execute_result"
    }
   ],
   "source": [
    "count_dose"
   ]
  },
  {
   "cell_type": "code",
   "execution_count": 37,
   "metadata": {},
   "outputs": [
    {
     "data": {
      "text/plain": [
       "(405, 128, 128)"
      ]
     },
     "execution_count": 37,
     "metadata": {},
     "output_type": "execute_result"
    }
   ],
   "source": [
    "dose_norm.shape"
   ]
  },
  {
   "cell_type": "code",
   "execution_count": 38,
   "metadata": {
    "scrolled": true
   },
   "outputs": [
    {
     "data": {
      "text/plain": [
       "<matplotlib.image.AxesImage at 0x7f558a24eb70>"
      ]
     },
     "execution_count": 38,
     "metadata": {},
     "output_type": "execute_result"
    },
    {
     "data": {
      "image/png": "[encoded data removed]",
      "text/plain": [
       "<Figure size 1080x360 with 4 Axes>"
      ]
     },
     "metadata": {
      "needs_background": "light"
     },
     "output_type": "display_data"
    }
   ],
   "source": [
    "x = 64\n",
    "fig, axes = plt.subplots(1, 4, figsize=(15,5))\n",
    "axes[0].imshow(pet[x], cmap=\"gray\")\n",
    "axes[1].imshow(dose[x], cmap=\"gray\")\n",
    "axes[2].imshow(pet_norm[x], cmap=\"gray\")\n",
    "axes[3].imshow(dose_norm[x], cmap=\"gray\")"
   ]
  },
  {
   "cell_type": "code",
   "execution_count": 26,
   "metadata": {},
   "outputs": [
    {
     "data": {
      "text/plain": [
       "0"
      ]
     },
     "execution_count": 26,
     "metadata": {},
     "output_type": "execute_result"
    }
   ],
   "source": [
    "np.sum(np.isnan(dose))"
   ]
  },
  {
   "cell_type": "code",
   "execution_count": null,
   "metadata": {},
   "outputs": [],
   "source": []
  }
 ],
 "metadata": {
  "kernelspec": {
   "display_name": "Python 3",
   "language": "python",
   "name": "python3"
  },
  "language_info": {
   "codemirror_mode": {
    "name": "ipython",
    "version": 3
   },
   "file_extension": ".py",
   "mimetype": "text/x-python",
   "name": "python",
   "nbconvert_exporter": "python",
   "pygments_lexer": "ipython3",
   "version": "3.6.7"
  }
 },
 "nbformat": 4,
 "nbformat_minor": 2
}
