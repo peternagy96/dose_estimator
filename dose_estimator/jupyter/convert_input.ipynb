{
 "cells": [
  {
   "cell_type": "code",
   "execution_count": 15,
   "metadata": {},
   "outputs": [],
   "source": [
    "import numpy as np\n",
    "import SimpleITK as sitk\n",
    "import matplotlib.pyplot as plt\n",
    "from PIL import Image\n",
    "from scipy import signal\n",
    "import cv2\n",
    "\n",
    "import os\n",
    "import random"
   ]
  },
  {
   "cell_type": "code",
   "execution_count": 22,
   "metadata": {},
   "outputs": [],
   "source": [
    "img = sitk.ReadImage('/home/peter/Documents/data_registered/05z1.nii')"
   ]
  },
  {
   "cell_type": "code",
   "execution_count": 41,
   "metadata": {},
   "outputs": [],
   "source": [
    "path = '/home/peter/Documents/data_registered/'\n",
    "path_out = '/home/peter/Documents/data_final/'"
   ]
  },
  {
   "cell_type": "code",
   "execution_count": 42,
   "metadata": {},
   "outputs": [
    {
     "name": "stdout",
     "output_type": "stream",
     "text": [
      "/home/peter/Documents/data_registered/25z1_PET.nii\n"
     ]
    }
   ],
   "source": [
    "# go through file system\n",
    "pet = []\n",
    "ct = []\n",
    "dose= []\n",
    "\n",
    "blacklist = ['06z1', '07z2', '12z4', '20z1', '23z1', '27z1', '62z1', '62z2']\n",
    "\n",
    "for r, d, f in os.walk(path):\n",
    "    for file in f:\n",
    "        if '.nii' in file and file[:4] not in blacklist:\n",
    "            if 'PET' in file:\n",
    "                pet.append(os.path.join(r, file))\n",
    "            elif 'CT' in file:\n",
    "                ct.append(os.path.join(r, file))\n",
    "            else:\n",
    "                dose.append(os.path.join(r, file))\n",
    "print(pet[0])"
   ]
  },
  {
   "cell_type": "code",
   "execution_count": 44,
   "metadata": {},
   "outputs": [
    {
     "data": {
      "text/plain": [
       "40"
      ]
     },
     "execution_count": 44,
     "metadata": {},
     "output_type": "execute_result"
    }
   ],
   "source": [
    "len(pet)"
   ]
  },
  {
   "cell_type": "code",
   "execution_count": null,
   "metadata": {},
   "outputs": [],
   "source": [
    "# SAVE IN NEW FOLDER STRUCTURE ------------------------------------------------------------------------------------------"
   ]
  },
  {
   "cell_type": "code",
   "execution_count": 45,
   "metadata": {},
   "outputs": [],
   "source": [
    "ref_size = (81, 128, 128)"
   ]
  },
  {
   "cell_type": "code",
   "execution_count": 46,
   "metadata": {
    "scrolled": true
   },
   "outputs": [
    {
     "name": "stdout",
     "output_type": "stream",
     "text": [
      "(81, 128, 128)\n",
      "(174, 128, 128)\n",
      "(82, 128, 128)\n",
      "(82, 128, 128)\n",
      "(82, 128, 128)\n",
      "(82, 128, 128)\n",
      "(82, 128, 128)\n",
      "(81, 128, 128)\n",
      "(82, 128, 128)\n",
      "(81, 128, 128)\n",
      "(82, 128, 128)\n",
      "(81, 128, 128)\n",
      "(81, 128, 128)\n",
      "(82, 128, 128)\n",
      "(82, 128, 128)\n",
      "(81, 128, 128)\n",
      "(160, 128, 128)\n",
      "(82, 128, 128)\n",
      "(81, 128, 128)\n",
      "(82, 128, 128)\n",
      "(82, 128, 128)\n",
      "(81, 128, 128)\n",
      "(81, 128, 128)\n",
      "(82, 128, 128)\n",
      "(81, 128, 128)\n",
      "(82, 128, 128)\n",
      "(82, 128, 128)\n",
      "(81, 128, 128)\n",
      "(81, 128, 128)\n",
      "(82, 128, 128)\n",
      "(81, 128, 128)\n",
      "(81, 128, 128)\n",
      "(156, 128, 128)\n",
      "(81, 128, 128)\n",
      "(81, 128, 128)\n",
      "(82, 128, 128)\n",
      "(81, 128, 128)\n",
      "(82, 128, 128)\n",
      "(82, 128, 128)\n",
      "(82, 128, 128)\n"
     ]
    }
   ],
   "source": [
    "# save pet images (third dimension must match)\n",
    "\n",
    "for p in pet:\n",
    "    # load image\n",
    "    orig_nii = sitk.ReadImage(p)\n",
    "    orig = sitk.GetArrayFromImage(orig_nii)\n",
    "    print(orig.shape)\n",
    "    out = np.zeros(ref_size)\n",
    "    \n",
    "    # check size\n",
    "    if orig.size != ref_size: \n",
    "        for s in range(81): #orig.shape[0]\n",
    "            out[s,:,:] = cv2.resize(orig[s,:,:], ref_size[1:])\n",
    "            \n",
    "    # convert pack to NIFTI\n",
    "    itkimage = sitk.GetImageFromArray(out, isVector=False)\n",
    "    \n",
    "    # copy metadata\n",
    "    for k in orig_nii.GetMetaDataKeys():\n",
    "        itkimage.SetMetaData(k, orig_nii.GetMetaData(k))\n",
    "    itkimage.SetMetaData('dim[1]', str(ref_size[1]))\n",
    "    itkimage.SetMetaData('dim[2]', str(ref_size[2]))\n",
    "    itkimage.SetMetaData('dim[3]', str(ref_size[0]))\n",
    "    \n",
    "    # new filename\n",
    "    filename = p.split('/')[-1].split('_')[0] + '_pet.nii.gz'\n",
    "    \n",
    "    # save to new folder\n",
    "    sitk.WriteImage(itkimage, os.path.join(path_out, filename), True)"
   ]
  },
  {
   "cell_type": "code",
   "execution_count": 47,
   "metadata": {
    "scrolled": true
   },
   "outputs": [
    {
     "name": "stdout",
     "output_type": "stream",
     "text": [
      "(82, 128, 128)\n",
      "(81, 128, 128)\n",
      "(81, 128, 128)\n",
      "(82, 128, 128)\n",
      "(81, 128, 128)\n",
      "(82, 128, 128)\n",
      "(81, 128, 128)\n",
      "(82, 128, 128)\n",
      "(82, 128, 128)\n",
      "(82, 128, 128)\n",
      "(82, 128, 128)\n",
      "(82, 128, 128)\n",
      "(82, 128, 128)\n",
      "(81, 128, 128)\n",
      "(81, 128, 128)\n",
      "(156, 128, 128)\n",
      "(81, 128, 128)\n",
      "(82, 128, 128)\n",
      "(82, 128, 128)\n",
      "(82, 128, 128)\n",
      "(174, 128, 128)\n",
      "(81, 128, 128)\n",
      "(82, 128, 128)\n",
      "(82, 128, 128)\n",
      "(82, 128, 128)\n",
      "(81, 128, 128)\n",
      "(82, 128, 128)\n",
      "(82, 128, 128)\n",
      "(81, 128, 128)\n",
      "(81, 128, 128)\n",
      "(82, 128, 128)\n",
      "(81, 128, 128)\n",
      "(82, 128, 128)\n",
      "(81, 128, 128)\n",
      "(81, 128, 128)\n",
      "(82, 128, 128)\n",
      "(81, 128, 128)\n",
      "(160, 128, 128)\n",
      "(81, 128, 128)\n",
      "(81, 128, 128)\n"
     ]
    }
   ],
   "source": [
    "# save ct images\n",
    "\n",
    "for p in ct:\n",
    "    # load image\n",
    "    orig_nii = sitk.ReadImage(p)\n",
    "    orig = sitk.GetArrayFromImage(orig_nii)\n",
    "    print(orig.shape)\n",
    "    out = np.zeros(ref_size)\n",
    "    \n",
    "    # check size\n",
    "    if orig.size != ref_size: \n",
    "        for s in range(81): #orig.shape[0]\n",
    "            out[s,:,:] = cv2.resize(orig[s,:,:], ref_size[1:])\n",
    "            \n",
    "    # convert pack to NIFTI\n",
    "    itkimage = sitk.GetImageFromArray(out, isVector=False)\n",
    "    \n",
    "    # copy metadata\n",
    "    for k in orig_nii.GetMetaDataKeys():\n",
    "        itkimage.SetMetaData(k, orig_nii.GetMetaData(k))\n",
    "    itkimage.SetMetaData('dim[1]', str(ref_size[1]))\n",
    "    itkimage.SetMetaData('dim[2]', str(ref_size[2]))\n",
    "    itkimage.SetMetaData('dim[3]', str(ref_size[0]))\n",
    "    \n",
    "    # new filename\n",
    "    filename = p.split('/')[-1].split('_')[0] + '_ct.nii.gz'\n",
    "    \n",
    "    # save to new folder\n",
    "    sitk.WriteImage(itkimage, os.path.join(path_out, filename), True)"
   ]
  },
  {
   "cell_type": "code",
   "execution_count": 48,
   "metadata": {},
   "outputs": [
    {
     "name": "stdout",
     "output_type": "stream",
     "text": [
      "(81, 128, 128)\n",
      "(82, 128, 128)\n",
      "(81, 128, 128)\n",
      "(82, 128, 128)\n",
      "(174, 128, 128)\n",
      "(82, 128, 128)\n",
      "(82, 128, 128)\n",
      "(82, 128, 128)\n",
      "(82, 128, 128)\n",
      "(81, 128, 128)\n",
      "(82, 128, 128)\n",
      "(82, 128, 128)\n",
      "(81, 128, 128)\n",
      "(81, 128, 128)\n",
      "(160, 128, 128)\n",
      "(81, 128, 128)\n",
      "(82, 128, 128)\n",
      "(81, 128, 128)\n",
      "(82, 128, 128)\n",
      "(82, 128, 128)\n",
      "(81, 128, 128)\n",
      "(81, 128, 128)\n",
      "(82, 128, 128)\n",
      "(81, 128, 128)\n",
      "(82, 128, 128)\n",
      "(82, 128, 128)\n",
      "(82, 128, 128)\n",
      "(81, 128, 128)\n",
      "(81, 128, 128)\n",
      "(81, 128, 128)\n",
      "(81, 128, 128)\n",
      "(82, 128, 128)\n",
      "(81, 128, 128)\n",
      "(82, 128, 128)\n",
      "(82, 128, 128)\n",
      "(156, 128, 128)\n",
      "(82, 128, 128)\n",
      "(82, 128, 128)\n",
      "(81, 128, 128)\n",
      "(81, 128, 128)\n"
     ]
    }
   ],
   "source": [
    "# save dose images\n",
    "\n",
    "for p in dose:\n",
    "    # load image\n",
    "    orig_nii = sitk.ReadImage(p)\n",
    "    orig = sitk.GetArrayFromImage(orig_nii)\n",
    "    print(orig.shape)\n",
    "    out = np.zeros(ref_size)\n",
    "    \n",
    "    # check size\n",
    "    if orig.size != ref_size: \n",
    "        for s in range(81): #orig.shape[0]\n",
    "            out[s,:,:] = cv2.resize(orig[s,:,:], ref_size[1:])\n",
    "            \n",
    "    # convert pack to NIFTI\n",
    "    itkimage = sitk.GetImageFromArray(out, isVector=False)\n",
    "    \n",
    "    # copy metadata\n",
    "    for k in orig_nii.GetMetaDataKeys():\n",
    "        itkimage.SetMetaData(k, orig_nii.GetMetaData(k))\n",
    "    itkimage.SetMetaData('dim[1]', str(ref_size[1]))\n",
    "    itkimage.SetMetaData('dim[2]', str(ref_size[2]))\n",
    "    itkimage.SetMetaData('dim[3]', str(ref_size[0]))\n",
    "    \n",
    "    # new filename\n",
    "    filename = p.split('/')[-1].split('.')[0] + '.nii.gz'\n",
    "    \n",
    "    # save to new folder\n",
    "    sitk.WriteImage(itkimage, os.path.join(path_out, filename), True)"
   ]
  },
  {
   "cell_type": "code",
   "execution_count": null,
   "metadata": {},
   "outputs": [],
   "source": [
    "# SAVE AS NUMPY FILES ---------------------------------------------------------------------------------------------------"
   ]
  },
  {
   "cell_type": "code",
   "execution_count": 49,
   "metadata": {},
   "outputs": [
    {
     "name": "stdout",
     "output_type": "stream",
     "text": [
      "['07z1', '05z3', '18z2', '07z3', '05z1']\n"
     ]
    }
   ],
   "source": [
    "# select test set\n",
    "testset_size = 5\n",
    "\n",
    "dataset = [x.split('/')[-1].split('_')[0] for x in pet]\n",
    "testset = random.choices(dataset,k=testset_size)\n",
    "trainset = [x for x in dataset if x not in testset]\n",
    "print(testset)"
   ]
  },
  {
   "cell_type": "code",
   "execution_count": 50,
   "metadata": {},
   "outputs": [
    {
     "name": "stdout",
     "output_type": "stream",
     "text": [
      "25z1\n",
      "13z2\n",
      "29z1\n",
      "28z1\n",
      "05z2\n",
      "10z1\n",
      "24z2\n",
      "14z1\n",
      "14z2\n",
      "17z1\n",
      "15z2\n",
      "05z9\n",
      "24z1\n",
      "20z2\n",
      "05z4\n",
      "07z4\n",
      "10z2\n",
      "05z5\n",
      "14z3\n",
      "12z2\n",
      "11z4\n",
      "13z1\n",
      "12z1\n",
      "11z2\n",
      "18z3\n",
      "18z1\n",
      "11z1\n",
      "21z1\n",
      "11z3\n",
      "09z1\n",
      "12z3\n",
      "08z1\n",
      "16z1\n",
      "14z4\n",
      "15z1\n"
     ]
    }
   ],
   "source": [
    "pet_final = np.zeros((len(trainset)*81, 128, 128))\n",
    "ct_final = np.zeros((len(trainset)*81, 128, 128))\n",
    "dose_final = np.zeros((len(trainset)*81, 128, 128))\n",
    "\n",
    "for idx, i in enumerate(trainset):\n",
    "    print(i)\n",
    "    pet_img = sitk.GetArrayFromImage(sitk.ReadImage(os.path.join(path_out, i + '_pet.nii.gz')))\n",
    "    ct_img = sitk.GetArrayFromImage(sitk.ReadImage(os.path.join(path_out, i + '_ct.nii.gz')))\n",
    "    dose_img = sitk.GetArrayFromImage(sitk.ReadImage(os.path.join(path_out, i + '.nii.gz')))\n",
    "    for x in range(pet_img.shape[0]):\n",
    "        pet_final[idx*81+x,:,:] = pet_img[x,:,:]\n",
    "        ct_final[idx*81+x,:,:] = ct_img[x,:,:]\n",
    "        dose_final[idx*81+x,:,:] = dose_img[x,:,:]\n",
    "    del pet_img, ct_img, dose_img\n",
    "    \n",
    "np.save('/home/peter/Documents/data/pet_train.npy', pet_final)\n",
    "np.save('/home/peter/Documents/data/ct_train.npy', ct_final)\n",
    "np.save('/home/peter/Documents/data/dose_train.npy', dose_final)"
   ]
  },
  {
   "cell_type": "code",
   "execution_count": 51,
   "metadata": {},
   "outputs": [],
   "source": [
    "del pet_final, ct_final, dose_final"
   ]
  },
  {
   "cell_type": "code",
   "execution_count": 52,
   "metadata": {},
   "outputs": [
    {
     "name": "stdout",
     "output_type": "stream",
     "text": [
      "07z1\n",
      "05z3\n",
      "18z2\n",
      "07z3\n",
      "05z1\n"
     ]
    }
   ],
   "source": [
    "pet_final2 = np.zeros((len(testset)*81, 128, 128))\n",
    "ct_final2 = np.zeros((len(testset)*81, 128, 128))\n",
    "dose_final2 = np.zeros((len(testset)*81, 128, 128))\n",
    "\n",
    "for idx, i in enumerate(testset):\n",
    "    print(i)\n",
    "    pet_img = sitk.GetArrayFromImage(sitk.ReadImage(os.path.join(path_out, i + '_pet.nii.gz')))\n",
    "    ct_img = sitk.GetArrayFromImage(sitk.ReadImage(os.path.join(path_out, i + '_ct.nii.gz')))\n",
    "    dose_img = sitk.GetArrayFromImage(sitk.ReadImage(os.path.join(path_out, i + '.nii.gz')))\n",
    "    for x in range(pet_img.shape[0]):\n",
    "        pet_final2[idx*81+x,:,:] = pet_img[x,:,:]\n",
    "        ct_final2[idx*81+x,:,:] = ct_img[x,:,:]\n",
    "        dose_final2[idx*81+x,:,:] = dose_img[x,:,:]\n",
    "    del pet_img, ct_img, dose_img\n",
    "    \n",
    "np.save('/home/peter/Documents/data/pet_test.npy', pet_final2)\n",
    "np.save('/home/peter/Documents/data/ct_test.npy', ct_final2)\n",
    "np.save('/home/peter/Documents/data/dose_test.npy', dose_final2)"
   ]
  },
  {
   "cell_type": "code",
   "execution_count": 53,
   "metadata": {},
   "outputs": [],
   "source": [
    "# save image name lists to text files\n",
    "with open('/home/peter/Documents/data/train.txt', 'w') as f:\n",
    "    for item in trainset:\n",
    "        f.write(\"%s\\n\" % item)\n",
    "\n",
    "with open('/home/peter/Documents/data/test.txt', 'w') as f:\n",
    "    for item in testset:\n",
    "        f.write(\"%s\\n\" % item)"
   ]
  },
  {
   "cell_type": "code",
   "execution_count": 54,
   "metadata": {},
   "outputs": [
    {
     "data": {
      "text/plain": [
       "['07z1', '05z3', '18z2', '07z3', '05z1']"
      ]
     },
     "execution_count": 54,
     "metadata": {},
     "output_type": "execute_result"
    }
   ],
   "source": [
    "text_file = open(\"/home/peter/Documents/data/test.txt\", \"r\", encoding='utf8')\n",
    "list1 = text_file.read().splitlines()\n",
    "list1"
   ]
  },
  {
   "cell_type": "code",
   "execution_count": null,
   "metadata": {},
   "outputs": [],
   "source": []
  }
 ],
 "metadata": {
  "kernelspec": {
   "display_name": "Python 3",
   "language": "python",
   "name": "python3"
  },
  "language_info": {
   "codemirror_mode": {
    "name": "ipython",
    "version": 3
   },
   "file_extension": ".py",
   "mimetype": "text/x-python",
   "name": "python",
   "nbconvert_exporter": "python",
   "pygments_lexer": "ipython3",
   "version": "3.6.4"
  }
 },
 "nbformat": 4,
 "nbformat_minor": 2
}
