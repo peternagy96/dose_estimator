{
 "cells": [
  {
   "cell_type": "code",
   "execution_count": 68,
   "metadata": {},
   "outputs": [],
   "source": [
    "import numpy as np\n",
    "#import simpleITK as sitk\n",
    "import matplotlib.pyplot as plt\n",
    "from PIL import Image\n",
    "from scipy import signal\n",
    "import cv2\n",
    "\n",
    "import os\n",
    "import random"
   ]
  },
  {
   "cell_type": "code",
   "execution_count": 51,
   "metadata": {},
   "outputs": [],
   "source": [
    "dose = np.load('/home/peter/Documents/data/dose_test.npy')\n",
    "pet = np.load('/home/peter/Documents/data/pet_test.npy')\n",
    "ct = np.load('/home/peter/Documents/data/ct_test.npy')"
   ]
  },
  {
   "cell_type": "code",
   "execution_count": 79,
   "metadata": {},
   "outputs": [],
   "source": [
    "pet2 = np.load('/home/peter/Documents/data_without_dose/pet_test.npy')\n",
    "ct2 = np.load('/home/peter/Documents/data_without_dose/ct_test.npy')"
   ]
  },
  {
   "cell_type": "code",
   "execution_count": 78,
   "metadata": {},
   "outputs": [],
   "source": [
    "del pet2, ct2"
   ]
  },
  {
   "cell_type": "code",
   "execution_count": 54,
   "metadata": {},
   "outputs": [
    {
     "name": "stdout",
     "output_type": "stream",
     "text": [
      "50.524924892032146\n",
      "-864.56435\n",
      " \n",
      "50.62717177560032\n",
      "-864.256625\n",
      " \n",
      "52.714212325713035\n",
      "-863.99215\n",
      " \n",
      "52.36962353706956\n",
      "-863.791975\n",
      " \n",
      "51.53006969527304\n",
      "-863.880675\n",
      " \n",
      "50.51569822876751\n",
      "-864.21435\n",
      " \n",
      "49.81970424646437\n",
      "-864.226325\n",
      " \n",
      "51.03148925522268\n",
      "-864.100775\n",
      " \n",
      "52.49491828174293\n",
      "-863.945225\n",
      " \n",
      "54.65995261016786\n",
      "-863.680125\n",
      " \n",
      "58.169184516316655\n",
      "-863.387375\n",
      " \n",
      "60.94792583713234\n",
      "-863.598725\n",
      " \n",
      "67.05223140229583\n",
      "-863.9163\n",
      " \n",
      "70.4766905609101\n",
      "-863.842975\n",
      " \n",
      "74.23564579665363\n",
      "-863.771575\n",
      " \n",
      "73.05014725499153\n",
      "-862.3358\n",
      " \n",
      "70.26748941016197\n",
      "-861.247625\n",
      " \n",
      "73.43567259007692\n",
      "-861.925825\n",
      " \n",
      "76.92475631411374\n",
      "-861.944875\n",
      " \n",
      "75.77334021752775\n",
      "-862.225625\n",
      " \n",
      "74.00633416915834\n",
      "-862.318775\n",
      " \n",
      "78.21125883207917\n",
      "-862.1898\n",
      " \n",
      "81.73837915591598\n",
      "-862.039825\n",
      " \n",
      "84.92264300710559\n",
      "-862.25455\n",
      " \n",
      "104.48993804725707\n",
      "-862.786975\n",
      " \n",
      "132.37801652602553\n",
      "-863.1316\n",
      " \n",
      "162.32138770314754\n",
      "-862.301375\n",
      " \n",
      "177.6651917884469\n",
      "-862.0021\n",
      " \n",
      "200.35916851589084\n",
      "-861.2233\n",
      " \n",
      "223.2656985043913\n",
      "-859.79845\n",
      " \n",
      "229.66232057439984\n",
      "-858.670175\n",
      " \n",
      "228.78092647859157\n",
      "-858.293275\n",
      " \n",
      "243.78835162567793\n",
      "-857.494025\n",
      " \n",
      "254.79263431568444\n",
      "-855.8301\n",
      " \n",
      "275.36872709797916\n",
      "-854.382225\n",
      " \n",
      "314.77307498190106\n",
      "-853.679575\n",
      " \n",
      "339.1188938732505\n",
      "-853.15395\n",
      " \n",
      "372.3935158285022\n",
      "-852.56\n",
      " \n",
      "416.45711931399705\n",
      "-851.7763\n",
      " \n",
      "432.9621305250287\n",
      "-850.950425\n",
      " \n",
      "450.9140384413123\n",
      "-849.4454\n",
      " \n",
      "446.94275623770653\n",
      "-848.806425\n",
      " \n",
      "440.63245113382635\n",
      "-849.0198\n",
      " \n",
      "423.54092309666873\n",
      "-849.544075\n",
      " \n",
      "396.8766057027638\n",
      "-849.1302\n",
      " \n",
      "379.4197376811117\n",
      "-848.53685\n",
      " \n",
      "348.0315792352378\n",
      "-848.499025\n",
      " \n",
      "323.7377687474638\n",
      "-848.639975\n",
      " \n",
      "312.57859076404276\n",
      "-847.994275\n",
      " \n",
      "318.3386840229064\n",
      "-847.29905\n",
      " \n",
      "317.36306478806137\n",
      "-846.4033\n",
      " \n",
      "320.2613011482388\n",
      "-846.162775\n",
      " \n",
      "316.12864584830106\n",
      "-846.98105\n",
      " \n",
      "306.29400713671146\n",
      "-848.7225\n",
      " \n",
      "289.3682959797889\n",
      "-851.083975\n",
      " \n",
      "267.41237901603876\n",
      "-852.91805\n",
      " \n",
      "245.68969066427647\n",
      "-855.20945\n",
      " \n",
      "239.2912230892539\n",
      "-857.479325\n",
      " \n",
      "220.68154596523644\n",
      "-861.399775\n",
      " \n",
      "206.09143093238174\n",
      "-865.552825\n",
      " \n"
     ]
    }
   ],
   "source": [
    "for x in range(40, 100):\n",
    "    print(pet[x].mean())\n",
    "    #print(dose[x].mean())\n",
    "    print(ct[x].mean())\n",
    "    print(\" \")"
   ]
  },
  {
   "cell_type": "code",
   "execution_count": 39,
   "metadata": {},
   "outputs": [],
   "source": [
    "def normalize_array(inp, img_size=81):\n",
    "    array = inp.copy()\n",
    "    for i in range(array.shape[0]):\n",
    "        pic = array[i:(i+1),:,:]\n",
    "        mask = (pic != 0.0)\n",
    "        pic[mask] = ((pic[mask] - pic.min()) / (pic.max() - pic.min()))  # pic / np.linalg.norm(pic) -1 # \n",
    "        #pic[mask] = (pic[mask] - pic.mean()) / pic.std()\n",
    "        #pic[mask] = ((pic[mask] - pic.min()) / (pic.max() - pic.min()))\n",
    "        array[i:(i+1),:,:] = pic\n",
    "    return array"
   ]
  },
  {
   "cell_type": "code",
   "execution_count": 104,
   "metadata": {},
   "outputs": [],
   "source": [
    "def filter_zeros(array):\n",
    "    bad_idx = []\n",
    "    for i in range(array.shape[0]):\n",
    "        if np.count_nonzero(array[i,:,:]) == 0:\n",
    "            bad_idx.append(i)\n",
    "    for idx in bad_idx:\n",
    "        while True:\n",
    "            rand_idx = random.choice(range(array.shape[0]))\n",
    "            if rand_idx not in bad_idx: break\n",
    "        array[idx] = array[rand_idx]\n",
    "    return array"
   ]
  },
  {
   "cell_type": "code",
   "execution_count": 73,
   "metadata": {},
   "outputs": [],
   "source": [
    "def upscale_array(array):\n",
    "    out = np.empty((array.shape[0], 200, 200))\n",
    "    for i in range(array.shape[0]):\n",
    "        pic = array[i,:,:]\n",
    "        out[i,:,:] = cv2.resize(pic, dsize=(200, 200))\n",
    "    return out"
   ]
  },
  {
   "cell_type": "code",
   "execution_count": 105,
   "metadata": {},
   "outputs": [],
   "source": [
    "dose_norm = normalize_array(dose)\n",
    "pet_norm = normalize_array(pet)"
   ]
  },
  {
   "cell_type": "code",
   "execution_count": 106,
   "metadata": {},
   "outputs": [],
   "source": [
    "pet_norm = filter_zeros(pet_norm)"
   ]
  },
  {
   "cell_type": "code",
   "execution_count": 107,
   "metadata": {},
   "outputs": [
    {
     "data": {
      "text/plain": [
       "(405, 128, 128)"
      ]
     },
     "execution_count": 107,
     "metadata": {},
     "output_type": "execute_result"
    }
   ],
   "source": [
    "pet_norm.shape"
   ]
  },
  {
   "cell_type": "code",
   "execution_count": 108,
   "metadata": {},
   "outputs": [],
   "source": [
    "count_pet = 0\n",
    "count_dose = 0\n",
    "for x in range(pet_norm.shape[0]):\n",
    "    if np.count_nonzero(pet_norm[x]) == 0:\n",
    "        count_pet += 1\n",
    "    if np.count_nonzero(dose_norm[x]) == 0:\n",
    "        count_dose += 1"
   ]
  },
  {
   "cell_type": "code",
   "execution_count": 110,
   "metadata": {},
   "outputs": [
    {
     "data": {
      "text/plain": [
       "0"
      ]
     },
     "execution_count": 110,
     "metadata": {},
     "output_type": "execute_result"
    }
   ],
   "source": [
    "count_dose"
   ]
  },
  {
   "cell_type": "code",
   "execution_count": 49,
   "metadata": {},
   "outputs": [
    {
     "data": {
      "text/plain": [
       "(405, 128, 128)"
      ]
     },
     "execution_count": 49,
     "metadata": {},
     "output_type": "execute_result"
    }
   ],
   "source": [
    "dose_norm.shape"
   ]
  },
  {
   "cell_type": "code",
   "execution_count": 33,
   "metadata": {
    "scrolled": true
   },
   "outputs": [
    {
     "data": {
      "text/plain": [
       "<matplotlib.image.AxesImage at 0x7fbbec895080>"
      ]
     },
     "execution_count": 33,
     "metadata": {},
     "output_type": "execute_result"
    },
    {
     "name": "stderr",
     "output_type": "stream",
     "text": [
      "/home/peter/anaconda3/envs/tf2/lib/python3.6/site-packages/matplotlib/image.py:395: UserWarning: Warning: converting a masked element to nan.\n",
      "  dv = (np.float64(self.norm.vmax) -\n",
      "/home/peter/anaconda3/envs/tf2/lib/python3.6/site-packages/matplotlib/image.py:396: UserWarning: Warning: converting a masked element to nan.\n",
      "  np.float64(self.norm.vmin))\n",
      "/home/peter/anaconda3/envs/tf2/lib/python3.6/site-packages/matplotlib/image.py:403: UserWarning: Warning: converting a masked element to nan.\n",
      "  a_min = np.float64(newmin)\n",
      "/home/peter/anaconda3/envs/tf2/lib/python3.6/site-packages/matplotlib/image.py:408: UserWarning: Warning: converting a masked element to nan.\n",
      "  a_max = np.float64(newmax)\n",
      "/home/peter/anaconda3/envs/tf2/lib/python3.6/site-packages/matplotlib/colors.py:918: UserWarning: Warning: converting a masked element to nan.\n",
      "  dtype = np.min_scalar_type(value)\n",
      "/home/peter/anaconda3/envs/tf2/lib/python3.6/site-packages/numpy/ma/core.py:718: UserWarning: Warning: converting a masked element to nan.\n",
      "  data = np.array(a, copy=False, subok=subok)\n"
     ]
    },
    {
     "data": {
      "image/png": "[encoded data removed]",
      "text/plain": [
       "<Figure size 1080x360 with 4 Axes>"
      ]
     },
     "metadata": {
      "needs_background": "light"
     },
     "output_type": "display_data"
    }
   ],
   "source": [
    "x = 64\n",
    "fig, axes = plt.subplots(1, 4, figsize=(15,5))\n",
    "axes[0].imshow(pet[x], cmap=\"gray\")\n",
    "axes[1].imshow(dose[x], cmap=\"gray\")\n",
    "axes[2].imshow(pet_norm[x], cmap=\"gray\")\n",
    "axes[3].imshow(dose_norm[x], cmap=\"gray\")"
   ]
  },
  {
   "cell_type": "code",
   "execution_count": 34,
   "metadata": {},
   "outputs": [
    {
     "data": {
      "text/plain": [
       "327680"
      ]
     },
     "execution_count": 34,
     "metadata": {},
     "output_type": "execute_result"
    }
   ],
   "source": [
    "np.sum(np.isnan(pet_norm))"
   ]
  },
  {
   "cell_type": "code",
   "execution_count": null,
   "metadata": {},
   "outputs": [],
   "source": []
  }
 ],
 "metadata": {
  "kernelspec": {
   "display_name": "Python 3",
   "language": "python",
   "name": "python3"
  },
  "language_info": {
   "codemirror_mode": {
    "name": "ipython",
    "version": 3
   },
   "file_extension": ".py",
   "mimetype": "text/x-python",
   "name": "python",
   "nbconvert_exporter": "python",
   "pygments_lexer": "ipython3",
   "version": "3.6.7"
  }
 },
 "nbformat": 4,
 "nbformat_minor": 2
}
