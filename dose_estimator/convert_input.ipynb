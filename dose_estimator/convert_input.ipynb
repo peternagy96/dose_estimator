{
 "cells": [
  {
   "cell_type": "code",
   "execution_count": 1,
   "metadata": {},
   "outputs": [],
   "source": [
    "import numpy as np\n",
    "import SimpleITK as sitk\n",
    "import matplotlib.pyplot as plt\n",
    "from PIL import Image\n",
    "from scipy import signal\n",
    "import cv2\n",
    "\n",
    "import os\n",
    "import random"
   ]
  },
  {
   "cell_type": "code",
   "execution_count": 2,
   "metadata": {},
   "outputs": [],
   "source": [
    "path = '/home/peter/Documents/data/input/'\n",
    "path_out = '/home/peter/Documents/data/input_converted/'"
   ]
  },
  {
   "cell_type": "code",
   "execution_count": 3,
   "metadata": {},
   "outputs": [
    {
     "name": "stdout",
     "output_type": "stream",
     "text": [
      "/home/peter/Documents/data/input/20z1/8_pet_tk_it_nac.nii.gz\n"
     ]
    }
   ],
   "source": [
    "# go through file system\n",
    "pet = []\n",
    "ct = []\n",
    "\n",
    "for r, d, f in os.walk(path):\n",
    "    for file in f:\n",
    "        if '.nii.gz' in file:\n",
    "            if 'pet' in file:\n",
    "                pet.append(os.path.join(r, file))\n",
    "            else:\n",
    "                ct.append(os.path.join(r, file))\n",
    "print(pet[0])"
   ]
  },
  {
   "cell_type": "code",
   "execution_count": null,
   "metadata": {},
   "outputs": [],
   "source": [
    "# SAVE IN NEW FOLDER STRUCTURE ------------------------------------------------------------------------------------------"
   ]
  },
  {
   "cell_type": "code",
   "execution_count": 71,
   "metadata": {},
   "outputs": [],
   "source": [
    "ref_size = (171, 200, 200)"
   ]
  },
  {
   "cell_type": "code",
   "execution_count": null,
   "metadata": {
    "scrolled": true
   },
   "outputs": [],
   "source": [
    "# save pet images (third dimension must match)\n",
    "\n",
    "for p in pet:\n",
    "    # load image\n",
    "    orig_nii = sitk.ReadImage(p)\n",
    "    orig = sitk.GetArrayFromImage(orig_nii)\n",
    "    print(orig.shape)\n",
    "    out = np.zeros(ref_size)\n",
    "    \n",
    "    # check size\n",
    "    if orig.size != ref_size: \n",
    "        for s in range(171): #orig.shape[0]\n",
    "            out[s,:,:] = cv2.resize(orig[s,:,:], ref_size[1:])\n",
    "            \n",
    "    # convert pack to NIFTI\n",
    "    itkimage = sitk.GetImageFromArray(out, isVector=False)\n",
    "    \n",
    "    # copy metadata\n",
    "    for k in orig_nii.GetMetaDataKeys():\n",
    "        itkimage.SetMetaData(k, orig_nii.GetMetaData(k))\n",
    "    itkimage.SetMetaData('dim[1]', str(ref_size[1]))\n",
    "    itkimage.SetMetaData('dim[2]', str(ref_size[2]))\n",
    "    itkimage.SetMetaData('dim[3]', str(ref_size[0]))\n",
    "    \n",
    "    # new filename\n",
    "    filename = p.split('/')[-2] + '_pet.nii.gz'\n",
    "    \n",
    "    # save to new folder\n",
    "    sitk.WriteImage(itkimage, os.path.join(path_out, filename), True)"
   ]
  },
  {
   "cell_type": "code",
   "execution_count": null,
   "metadata": {},
   "outputs": [],
   "source": [
    "# save ct images\n",
    "\n",
    "for p in ct:\n",
    "    # load image\n",
    "    orig_nii = sitk.ReadImage(p)\n",
    "    orig = sitk.GetArrayFromImage(orig_nii)\n",
    "    print(orig.shape)\n",
    "    out = np.zeros(ref_size)\n",
    "    \n",
    "    # check size\n",
    "    if orig.size != ref_size: \n",
    "        for s in range(171): #orig.shape[0]\n",
    "            out[s,:,:] = cv2.resize(orig[s,:,:], ref_size[1:])\n",
    "            \n",
    "    # convert pack to NIFTI\n",
    "    itkimage = sitk.GetImageFromArray(out, isVector=False)\n",
    "    \n",
    "    # copy metadata\n",
    "    for k in orig_nii.GetMetaDataKeys():\n",
    "        itkimage.SetMetaData(k, orig_nii.GetMetaData(k))\n",
    "    itkimage.SetMetaData('dim[1]', str(ref_size[1]))\n",
    "    itkimage.SetMetaData('dim[2]', str(ref_size[2]))\n",
    "    itkimage.SetMetaData('dim[3]', str(ref_size[0]))\n",
    "    \n",
    "    # new filename\n",
    "    filename = p.split('/')[-2] + '_ct.nii.gz'\n",
    "    \n",
    "    # save to new folder\n",
    "    sitk.WriteImage(itkimage, os.path.join(path_out, filename), True)"
   ]
  },
  {
   "cell_type": "code",
   "execution_count": null,
   "metadata": {},
   "outputs": [],
   "source": [
    "# SAVE AS NUMPY FILES ---------------------------------------------------------------------------------------------------"
   ]
  },
  {
   "cell_type": "code",
   "execution_count": 4,
   "metadata": {},
   "outputs": [
    {
     "name": "stdout",
     "output_type": "stream",
     "text": [
      "['24z1', '05z9', '05z3', '15z1', '12z4', '12z3', '11z1', '07z4']\n"
     ]
    }
   ],
   "source": [
    "# select test set\n",
    "testset_size = 8\n",
    "\n",
    "dataset = [x.split('/')[-2] for x in pet]\n",
    "testset = random.choices(dataset,k=testset_size)\n",
    "trainset = [x for x in dataset if x not in testset]\n",
    "print(testset)"
   ]
  },
  {
   "cell_type": "code",
   "execution_count": null,
   "metadata": {},
   "outputs": [],
   "source": [
    "pet_final = np.zeros((len(trainset)*171, 200, 200))\n",
    "ct_final = np.zeros((len(trainset)*171, 200, 200))\n",
    "\n",
    "for idx, i in enumerate(trainset):\n",
    "    print(i)\n",
    "    pet_img = sitk.GetArrayFromImage(sitk.ReadImage(os.path.join(path_out, i + '_pet.nii.gz')))\n",
    "    ct_img = sitk.GetArrayFromImage(sitk.ReadImage(os.path.join(path_out, i + '_ct.nii.gz')))\n",
    "    for x in range(pet_img.shape[0]):\n",
    "        pet_final[idx*171+x,:,:] = pet_img[x,:,:]\n",
    "        ct_final[idx*171+x,:,:] = ct_img[x,:,:]\n",
    "    del pet_img, ct_img\n",
    "    \n",
    "np.save('/home/peter/Documents/data/pet.npy', pet_final)\n",
    "np.save('/home/peter/Documents/data/ct.npy', ct_final)"
   ]
  },
  {
   "cell_type": "code",
   "execution_count": 7,
   "metadata": {},
   "outputs": [],
   "source": [
    "# save image name lists to text files\n",
    "with open('/home/peter/Documents/data/train.txt', 'w') as f:\n",
    "    for item in trainset:\n",
    "        f.write(\"%s\\n\" % item)\n",
    "\n",
    "with open('/home/peter/Documents/data/test.txt', 'w') as f:\n",
    "    for item in testset:\n",
    "        f.write(\"%s\\n\" % item)"
   ]
  },
  {
   "cell_type": "code",
   "execution_count": null,
   "metadata": {},
   "outputs": [],
   "source": []
  }
 ],
 "metadata": {
  "kernelspec": {
   "display_name": "Python 3",
   "language": "python",
   "name": "python3"
  },
  "language_info": {
   "codemirror_mode": {
    "name": "ipython",
    "version": 3
   },
   "file_extension": ".py",
   "mimetype": "text/x-python",
   "name": "python",
   "nbconvert_exporter": "python",
   "pygments_lexer": "ipython3",
   "version": "3.6.7"
  }
 },
 "nbformat": 4,
 "nbformat_minor": 2
}
